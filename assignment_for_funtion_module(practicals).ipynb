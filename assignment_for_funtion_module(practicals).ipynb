{
  "nbformat": 4,
  "nbformat_minor": 0,
  "metadata": {
    "colab": {
      "provenance": []
    },
    "kernelspec": {
      "name": "python3",
      "display_name": "Python 3"
    },
    "language_info": {
      "name": "python"
    }
  },
  "cells": [
    {
      "cell_type": "code",
      "execution_count": 23,
      "metadata": {
        "colab": {
          "base_uri": "https://localhost:8080/"
        },
        "id": "51AVgv5USMv7",
        "outputId": "de2bd2bc-0f45-4756-b8fd-b26eac644aad"
      },
      "outputs": [
        {
          "output_type": "stream",
          "name": "stdout",
          "text": [
            "114\n"
          ]
        }
      ],
      "source": [
        "# question1. Write a Python function that takes a list of numbers as input and returns the sum of all even numbers in\n",
        "#            the list.\n",
        "\n",
        "def add_even_numbers(lis):\n",
        "  sum=0\n",
        "  for num in lis:\n",
        "    if num%2==0:\n",
        "      sum+=num\n",
        "  return sum\n",
        "list1=[2,4,7,1,23,7,20,5,88,65]\n",
        "print(add_even_numbers(list1))\n",
        "\n",
        "\n"
      ]
    },
    {
      "cell_type": "code",
      "source": [
        "#question2:Create a Python function that accepts a string and returns the reverse of that string.\n",
        "def reverse_string(st):\n",
        "  st1=st[::-1]\n",
        "  print( st1)\n",
        "reverse_string(st=\"mithlesh\")\n"
      ],
      "metadata": {
        "colab": {
          "base_uri": "https://localhost:8080/"
        },
        "id": "uVEJl-qBYTID",
        "outputId": "eed4df55-c260-49e1-aba0-fa8a94b4dade"
      },
      "execution_count": null,
      "outputs": [
        {
          "output_type": "stream",
          "name": "stdout",
          "text": [
            "hselhtim\n"
          ]
        }
      ]
    },
    {
      "cell_type": "code",
      "source": [
        " # question 3: Implement a Python function that takes a list of integers and returns a new list\n",
        " #             containing the squares of each number.\n",
        "list1=[1,2,3,4,5,9,11,15]\n",
        "list(map(lambda x:x**2,list1))\n",
        "\n"
      ],
      "metadata": {
        "colab": {
          "base_uri": "https://localhost:8080/"
        },
        "id": "szrJuxssYpVP",
        "outputId": "a50a99a0-285f-4e96-d736-85d6d5ac03ef"
      },
      "execution_count": null,
      "outputs": [
        {
          "output_type": "execute_result",
          "data": {
            "text/plain": [
              "[1, 4, 9, 16, 25, 81, 121, 225]"
            ]
          },
          "metadata": {},
          "execution_count": 17
        }
      ]
    },
    {
      "cell_type": "code",
      "source": [
        "# question 4: Write a Python function that checks if a given number is prime or not from 1 to 200.\n",
        "def check_prime(num):\n",
        "    if num <= 1:  # Check for 0, 1, and negative numbers\n",
        "        print(f\"The number {num} is not prime.\")\n",
        "        return\n",
        "    for i in range(2, num):\n",
        "        if num % i == 0:\n",
        "            print(f\"The number {num} is composite.\")\n",
        "            break\n",
        "    else:\n",
        "        print(f\"The number {num} is prime.\")\n",
        "\n",
        "number = int(input(\"Enter a number to check if it is prime or not: \"))\n",
        "check_prime(number)\n",
        "\n",
        "\n"
      ],
      "metadata": {
        "colab": {
          "base_uri": "https://localhost:8080/"
        },
        "id": "0idfuc91bnSy",
        "outputId": "b4d8286b-2f23-43ff-acb1-ca5a14106896"
      },
      "execution_count": null,
      "outputs": [
        {
          "output_type": "stream",
          "name": "stdout",
          "text": [
            "Enter a number to check if it is prime or not: 0\n",
            "The number 0 is not prime.\n"
          ]
        }
      ]
    },
    {
      "cell_type": "code",
      "source": [
        "# Question 5 :Create an iterator class in Python that generates the Fibonacci sequence up to a specified number of\n",
        "              #terms.\n",
        "class FibonacciIterator:\n",
        "    def __init__(self, num_terms):\n",
        "        self.num_terms = num_terms\n",
        "        self.index = 0\n",
        "        self.a, self.b = 0, 1\n",
        "\n",
        "    def __iter__(self):\n",
        "        return self\n",
        "\n",
        "    def __next__(self):\n",
        "        if self.index >= self.num_terms:\n",
        "            raise StopIteration\n",
        "        if self.index == 0:\n",
        "            self.index += 1\n",
        "            return self.a\n",
        "        elif self.index == 1:\n",
        "            self.index += 1\n",
        "            return self.b\n",
        "        else:\n",
        "            self.index += 1\n",
        "            next_value = self.a + self.b\n",
        "            self.a, self.b = self.b, next_value\n",
        "            return next_value\n",
        "\n",
        "# Example usage\n",
        "num_terms = 10\n",
        "fib_iter = FibonacciIterator(num_terms)\n",
        "for num in fib_iter:\n",
        "    print(num)\n"
      ],
      "metadata": {
        "id": "q1jEXxS-g4Hh",
        "colab": {
          "base_uri": "https://localhost:8080/"
        },
        "outputId": "ea8e4c4e-2d77-4f2d-f479-f2217304ed08"
      },
      "execution_count": 1,
      "outputs": [
        {
          "output_type": "stream",
          "name": "stdout",
          "text": [
            "0\n",
            "1\n",
            "1\n",
            "2\n",
            "3\n",
            "5\n",
            "8\n",
            "13\n",
            "21\n",
            "34\n"
          ]
        }
      ]
    },
    {
      "cell_type": "code",
      "source": [
        "# Question 6: Write a generator function in Python that yields the powers of 2 up to a given exponent\n",
        "def power_of_two(exp):\n",
        "  for i in range(exp+1):\n",
        "    yield  2**i\n",
        "for i in power_of_two(10):\n",
        "    print(i)"
      ],
      "metadata": {
        "colab": {
          "base_uri": "https://localhost:8080/"
        },
        "id": "6_PMe7DB27L1",
        "outputId": "82b07b05-921d-4e43-9134-f95b95fb54f5"
      },
      "execution_count": 5,
      "outputs": [
        {
          "output_type": "stream",
          "name": "stdout",
          "text": [
            "1\n",
            "2\n",
            "4\n",
            "8\n",
            "16\n",
            "32\n",
            "64\n",
            "128\n",
            "256\n",
            "512\n",
            "1024\n"
          ]
        }
      ]
    },
    {
      "cell_type": "code",
      "source": [
        "#question7. Implement a generator function that reads a file line by line and yields each line as a string.\n",
        "def read_file_line_by_line(file_path):\n",
        "    try:\n",
        "        with open(file_path, 'r') as file:\n",
        "            for line in file:\n",
        "                yield line.strip()\n",
        "    except FileNotFoundError:\n",
        "        print(f\"Error: The file '{file_path}' does not exist.\")\n",
        "    except Exception as e:\n",
        "        print(f\"An error occurred: {e}\")\n",
        "\n",
        "# Example usage\n",
        "file_path = 'example.txt'\n",
        "for line in read_file_line_by_line(file_path):\n",
        "    print(line)\n"
      ],
      "metadata": {
        "colab": {
          "base_uri": "https://localhost:8080/"
        },
        "id": "7kcReOdv452_",
        "outputId": "df09766b-3dbd-4afe-9458-8104b959c4db"
      },
      "execution_count": 6,
      "outputs": [
        {
          "output_type": "stream",
          "name": "stdout",
          "text": [
            "Error: The file 'example.txt' does not exist.\n"
          ]
        }
      ]
    },
    {
      "cell_type": "code",
      "source": [
        "#question8: Use a lambda function in Python to sort a list of tuples based on the second element of each tuple."
      ],
      "metadata": {
        "id": "LYZWTkgc5-Qr"
      },
      "execution_count": null,
      "outputs": []
    },
    {
      "cell_type": "code",
      "source": [
        "list10=[(1,2),(4,6),(7,1),(8,2)]\n",
        "sorted_list = sorted(list10, key=lambda x: x[1])\n",
        "print(sorted_list)\n"
      ],
      "metadata": {
        "colab": {
          "base_uri": "https://localhost:8080/"
        },
        "id": "1MpFWs365jlV",
        "outputId": "715c96e3-05dd-4401-fb96-d71da0863de7"
      },
      "execution_count": 24,
      "outputs": [
        {
          "output_type": "stream",
          "name": "stdout",
          "text": [
            "[(7, 1), (1, 2), (8, 2), (4, 6)]\n"
          ]
        }
      ]
    },
    {
      "cell_type": "code",
      "source": [
        "#Queestion 9 :Write a Python program that uses `map()` to convert a list of temperatures from Celsius to Fahrenheit\n",
        "def celsius_to_fahrenheit(celsius):\n",
        "    return (celsius * 9/5) + 32\n",
        "\n",
        "# List of temperatures in Celsius\n",
        "celsius_temps = [0, 20, 37, 100]\n",
        "\n",
        "# Using map() to convert each temperature to Fahrenheit\n",
        "result=list(map(celsius_to_fahrenheit, celsius_temps))\n",
        "print(result)"
      ],
      "metadata": {
        "id": "slwFyfdH-LIY"
      },
      "execution_count": null,
      "outputs": []
    },
    {
      "cell_type": "code",
      "source": [
        "#question10: Create a Python program that uses `filter()` to remove all the vowels from a given string\n",
        "def remove_vowels(input_string):\n",
        "    vowels = \"aeiouAEIOU\"\n",
        "    return ''.join(filter(lambda char: char not in vowels, input_string))\n",
        "\n",
        "# Example\n",
        "input_string = \"Hello, World!\"\n",
        "result = remove_vowels(input_string)\n",
        "print(result)\n"
      ],
      "metadata": {
        "colab": {
          "base_uri": "https://localhost:8080/"
        },
        "id": "gSeF3nay-Mn3",
        "outputId": "ae74c3b0-98ed-4e6b-85bf-4e8346ec7c8d"
      },
      "execution_count": 15,
      "outputs": [
        {
          "output_type": "stream",
          "name": "stdout",
          "text": [
            "Hll, Wrld!\n"
          ]
        }
      ]
    },
    {
      "cell_type": "code",
      "source": [
        "'''question11: Imagine an accounting routine used in a book shop. It works on a list with sublists, which look like this:\n",
        "\n",
        "lt=[[34587,\"learning python\",\"mark lutz\",4,40.95],\n",
        "      [98762,\"programming python\",\"mark lutz\",5,56.80],\n",
        "      [77226,\"head first python\",\"paul berry\",3,32.95],\n",
        "      [88112,\"Einfuhrung in python3\",\"Bernd klein\",3,24.99]   ]\n",
        "\n",
        "\n",
        "\n",
        "\n",
        "\n",
        "Write a Python program, which returns a list with 2-tuples. Each tuple consists of the order number and the\n",
        "product of the price per item and the quantity. The product should be increased by 10,- € if the value of the\n",
        "order is smaller than 100,00 €.\n",
        "\n",
        "Write a Python program using lambda and map.'''\n",
        "\n",
        "orders = [\n",
        "    [34587, \"learning python\", \"mark lutz\", 4, 40.95],\n",
        "    [98762, \"programming python\", \"mark lutz\", 5, 56.80],\n",
        "    [77226, \"head first python\", \"paul berry\", 3, 32.95],\n",
        "    [88112, \"Einfuhrung in python3\", \"Bernd klein\", 3, 24.99]\n",
        "]\n",
        "\n",
        "# Function to calculate the total order value\n",
        "calculate_order = lambda order: (order[0], order[3] * order[4] + (10 if order[3] * order[4] < 100 else 0))\n",
        "\n",
        "# Applying the function to each order\n",
        "order_totals = list(map(calculate_order, orders))\n",
        "\n",
        "# Print the result\n",
        "print(order_totals)\n",
        "\n",
        "\n",
        "#remark : The function is running good in the spyder but here it is not running\n",
        "          # i am unable to fix iit please do add remark in  this regard in the result\n",
        "\n"
      ],
      "metadata": {
        "colab": {
          "base_uri": "https://localhost:8080/",
          "height": 217
        },
        "id": "N3y1Mu8m-rRu",
        "outputId": "03ed766b-ea4a-48af-f5c2-8ebc2769daac"
      },
      "execution_count": 25,
      "outputs": [
        {
          "output_type": "error",
          "ename": "TypeError",
          "evalue": "'list' object is not callable",
          "traceback": [
            "\u001b[0;31m---------------------------------------------------------------------------\u001b[0m",
            "\u001b[0;31mTypeError\u001b[0m                                 Traceback (most recent call last)",
            "\u001b[0;32m<ipython-input-25-baa3f31d334d>\u001b[0m in \u001b[0;36m<cell line: 29>\u001b[0;34m()\u001b[0m\n\u001b[1;32m     27\u001b[0m \u001b[0;34m\u001b[0m\u001b[0m\n\u001b[1;32m     28\u001b[0m \u001b[0;31m# Applying the function to each order\u001b[0m\u001b[0;34m\u001b[0m\u001b[0;34m\u001b[0m\u001b[0m\n\u001b[0;32m---> 29\u001b[0;31m \u001b[0morder_totals\u001b[0m \u001b[0;34m=\u001b[0m \u001b[0mlist\u001b[0m\u001b[0;34m(\u001b[0m\u001b[0mmap\u001b[0m\u001b[0;34m(\u001b[0m\u001b[0mcalculate_order\u001b[0m\u001b[0;34m,\u001b[0m \u001b[0morders\u001b[0m\u001b[0;34m)\u001b[0m\u001b[0;34m)\u001b[0m\u001b[0;34m\u001b[0m\u001b[0;34m\u001b[0m\u001b[0m\n\u001b[0m\u001b[1;32m     30\u001b[0m \u001b[0;34m\u001b[0m\u001b[0m\n\u001b[1;32m     31\u001b[0m \u001b[0;31m# Print the result\u001b[0m\u001b[0;34m\u001b[0m\u001b[0;34m\u001b[0m\u001b[0m\n",
            "\u001b[0;31mTypeError\u001b[0m: 'list' object is not callable"
          ]
        }
      ]
    }
  ]
}