{
  "nbformat": 4,
  "nbformat_minor": 0,
  "metadata": {
    "colab": {
      "provenance": []
    },
    "kernelspec": {
      "name": "python3",
      "display_name": "Python 3"
    },
    "language_info": {
      "name": "python"
    }
  },
  "cells": [
    {
      "cell_type": "markdown",
      "source": [
        "**Question1** :Discuss string slicing and provide examples\n",
        "**Answer**:string slicing is the method by which a sub string can be extracted from a given string .\n",
        "for this we use index method for whre to start and where to end the slicing. the example is given bellow\n"
      ],
      "metadata": {
        "id": "BP1LReNI5xFz"
      }
    },
    {
      "cell_type": "code",
      "source": [
        "#string slicing example\n",
        "str1=\"Hi, I am mithlesh chauhan currently learning the python for data analytics\"\n",
        "str2=str1[0:25]\n",
        "print(str2) #here we slice the part of str1 and store in another string str2"
      ],
      "metadata": {
        "colab": {
          "base_uri": "https://localhost:8080/"
        },
        "id": "-7OCEeRW6d_B",
        "outputId": "baa4afc2-ab36-4696-eb60-a12524e4755c"
      },
      "execution_count": null,
      "outputs": [
        {
          "output_type": "stream",
          "name": "stdout",
          "text": [
            "Hi, I am mithlesh chauhan\n"
          ]
        }
      ]
    },
    {
      "cell_type": "code",
      "source": [
        "str1=\"Hi, I am mithlesh chauhan currently learning the python for data analytics\"\n",
        "str3=str1[-1]\n",
        "print(str3) # here the negetive index gives the character from the end of the string\n"
      ],
      "metadata": {
        "colab": {
          "base_uri": "https://localhost:8080/"
        },
        "id": "5Z5k7Wo98Hja",
        "outputId": "6c4557e9-9be2-41e0-99c6-33a50449586e"
      },
      "execution_count": null,
      "outputs": [
        {
          "output_type": "stream",
          "name": "stdout",
          "text": [
            "s\n"
          ]
        }
      ]
    },
    {
      "cell_type": "code",
      "source": [
        "str1=\"Hi, I am mithlesh chauhan currently learning the python for data analytics\"\n",
        "print(str1[0:25:2]) #here the [0:25:2] the first argument tell the starting point second one tell the ending point\n",
        "                    # and the third one tell the number of item to skip"
      ],
      "metadata": {
        "colab": {
          "base_uri": "https://localhost:8080/"
        },
        "id": "75h7hxMm8xO4",
        "outputId": "3eaa4877-e0a9-4d6f-e0e1-938c9c777385"
      },
      "execution_count": null,
      "outputs": [
        {
          "output_type": "stream",
          "name": "stdout",
          "text": [
            "H,Ia ihehcahn\n"
          ]
        }
      ]
    },
    {
      "cell_type": "markdown",
      "source": [
        "**Question 2**: Explain the key feature of list in python\n",
        "**Answer**: List is a data type which store the hetrogenenous data in the mutable form. or we can say that\n",
        "list are the ordered collection of the hetrogenous item.\n",
        "some key features of list\n",
        "a)mutable\n",
        "b)ordered\n",
        "c)every element are indexed the index start from zero\n",
        "d)every new element are added to the end of the list\n",
        "e)we can retrive the element using the index\n",
        "and there are many more feature of the list...\n",
        "\n"
      ],
      "metadata": {
        "id": "KrpcUts29j6x"
      }
    },
    {
      "cell_type": "markdown",
      "source": [
        "**Question3**: Describe how to access , modify and delete eelment in a list with example.\n",
        "**Answer**: there are some function that are ussed to do so the process is explianed in the example given below\n"
      ],
      "metadata": {
        "id": "jbgABgBqCNDW"
      }
    },
    {
      "cell_type": "code",
      "source": [
        "# how to access the element in a list\n",
        "list1=[\"mithlesh chauhan\",\"aniniket gupta\",54, -45,5.4]\n",
        "print(list1[0]) #here we use index to access the element of the list1"
      ],
      "metadata": {
        "colab": {
          "base_uri": "https://localhost:8080/"
        },
        "id": "MtcuF9e-DHK0",
        "outputId": "866407f3-6a62-4a39-9f38-87f2abf49a0a"
      },
      "execution_count": null,
      "outputs": [
        {
          "output_type": "stream",
          "name": "stdout",
          "text": [
            "mithlesh chauhan\n"
          ]
        }
      ]
    },
    {
      "cell_type": "code",
      "source": [
        "#modify the element of the list\n",
        "list1=[\"mithlesh chauhan\",\"aniniket gupta\",54, -45,5.4]\n",
        "list1[0]=\"pawan\"\n",
        "print(list1)\n",
        "\n"
      ],
      "metadata": {
        "colab": {
          "base_uri": "https://localhost:8080/"
        },
        "id": "h3pKUmyQEW5D",
        "outputId": "0573371e-a515-4cc0-f87d-b8c1ae9fa046"
      },
      "execution_count": null,
      "outputs": [
        {
          "output_type": "stream",
          "name": "stdout",
          "text": [
            "['pawan', 'aniniket gupta', 54, -45, 5.4]\n"
          ]
        }
      ]
    },
    {
      "cell_type": "code",
      "source": [
        "#to delete element from a list\n",
        "list1=[\"mithlesh\",\"aniniket gupta\",54, -45,5.4]\n",
        "list1.pop() #the will delete the last element of the list\n",
        "print(list1)\n",
        "list1.remove(\"mithlesh\") # this will remove the specific element from the list\n",
        "print(list1)\n",
        "list1.clear()# this will clear the list and return a empty list\n",
        "print(list1)\n"
      ],
      "metadata": {
        "colab": {
          "base_uri": "https://localhost:8080/"
        },
        "id": "QP1QkvqmFh1G",
        "outputId": "4802d6a6-b446-4a7b-9918-f0d3c701ebc3"
      },
      "execution_count": null,
      "outputs": [
        {
          "output_type": "stream",
          "name": "stdout",
          "text": [
            "['mithlesh', 'aniniket gupta', 54, -45]\n",
            "['aniniket gupta', 54, -45]\n",
            "[]\n"
          ]
        }
      ]
    },
    {
      "cell_type": "markdown",
      "source": [
        "**Question 4**:Compare and contrast tuples and lists with examples.\n",
        "**Answer**: The basic diffrence between tuples and list is mutability\n",
        "list are mutable in nature but tuples are not mutable\n",
        "we cannot change the element of tuple once entered but we can change the same in the list\n",
        "tuples are more efficent than the list.\n",
        "tuples use less memory so they are faster when data access from them.The use case of the the list and the tuples are differnt as\n",
        "tuples are used for the data set which are stable ar can say fixed in nature for examples data base of employee id of the emploee of a Institute or the data set of the aadhar number of the citizen of India etc.\n",
        "use of list are used to the data set where the data can change by time like the data of  monthly revenue and expenditure of a company etc.\n",
        "The below exmple will clear some more diffrence\n",
        "\n",
        "\n"
      ],
      "metadata": {
        "id": "fIakO5V4HIDb"
      }
    },
    {
      "cell_type": "code",
      "source": [
        "# tuples and list\n",
        "list1=[1,2,3,4,5,6,7,8,9,10]\n",
        "tuple1=(1,2,3,4,5,6,7,8,9,10)\n",
        "list1.append(11)\n",
        "print(list1)\n",
        "# tuple.append(11)\n",
        "#type object 'tuple' has no attribute 'append'     -this error will be  thrown by python\n",
        "# this mean the tuples are immutable while the lists are mutable in nature.\n"
      ],
      "metadata": {
        "colab": {
          "base_uri": "https://localhost:8080/"
        },
        "id": "iNmiZ1ISYIfP",
        "outputId": "4da2d8dc-a790-4ad4-a3b3-ddb57b1f49d4"
      },
      "execution_count": null,
      "outputs": [
        {
          "output_type": "stream",
          "name": "stdout",
          "text": [
            "[1, 2, 3, 4, 5, 6, 7, 8, 9, 10, 11]\n"
          ]
        }
      ]
    },
    {
      "cell_type": "markdown",
      "source": [
        "**Question 5**: Describe the key feature of the sets and provide the example of their use.\n",
        "**Answer**:The the sets are the unordered and unique collection of the  elements which are unmutable data structure which means we cannot modify the data once created in the sets and uniqueness means that duplicate entry are are not counted in the set .\n",
        "since the sets are immutable this means it have stable hash value so it is a bit faster and memory efficient  than the mutable  data structures .\n",
        "some of the use cases are given below in the example with code.\n",
        ""
      ],
      "metadata": {
        "id": "SfQHN6PbaweM"
      }
    },
    {
      "cell_type": "code",
      "source": [
        "#example of set usage using set operation\n",
        "a={1,2,3,4,5,6}\n",
        "b={6,7,8,9,10}\n",
        "print(\"union of a and b is \",a|b)\n",
        "print(\"intersection of a and b is \", a&b)\n",
        "print(\"diffrence of a and b is\",a-b)\n",
        "print(\"symmetric diffrence of the a and b is \",a^b)\n",
        "# the above are the example of the set operation this is very useful in the real life problem used in data analysis\n",
        "\n",
        "\n"
      ],
      "metadata": {
        "colab": {
          "base_uri": "https://localhost:8080/"
        },
        "id": "lb6L2KoYmIpr",
        "outputId": "13e7caae-28eb-4dd0-dd6e-fb171344d0d4"
      },
      "execution_count": 44,
      "outputs": [
        {
          "output_type": "stream",
          "name": "stdout",
          "text": [
            "union of a and b is  {1, 2, 3, 4, 5, 6, 7, 8, 9, 10}\n",
            "intersection of a and b is  {6}\n",
            "diffrence of a and b is {1, 2, 3, 4, 5}\n",
            "symmetric diffrence of the a and b is  {1, 2, 3, 4, 5, 7, 8, 9, 10}\n"
          ]
        }
      ]
    },
    {
      "cell_type": "markdown",
      "source": [
        "**Question6**:discuss the use cases of tuples and sets in python programming.\n",
        "**Answer**:Tuples are ordered immutable data types so,we use the tuples when we do not have to modify the data whereas the sets are also immutable but the uniqness preserve here hence sets are used when we have to maintain the uniqness.  "
      ],
      "metadata": {
        "id": "5gT-aFy69wtG"
      }
    },
    {
      "cell_type": "markdown",
      "source": [
        "**Question7**:Describe how to add , modify and delete item in the dictionary?\n",
        "**Answer:**The expalination is in the code given below.\n",
        "\n"
      ],
      "metadata": {
        "id": "BbRrsj8I_iIT"
      }
    },
    {
      "cell_type": "code",
      "source": [
        "my_dict={\"name\":\"mithlesh chauhan\",\"course\":\"data analytics\",\"college\":\"BHU\"}\n",
        "my_dict[\"mobile number\"]=\"8948097162\"    # this will add the item (key value pair) to th dictionary\n",
        "print(my_dict)\n",
        "my_dict[\"mobile number\"]=\"9598230075\"\n",
        "print(my_dict) # this will modify the  value of the given key\n",
        "del my_dict[\"mobile number\"] #this will delete the given key value pairs fron the dictionary\n",
        "print(my_dict)\n"
      ],
      "metadata": {
        "colab": {
          "base_uri": "https://localhost:8080/"
        },
        "id": "E5kbjvjZBYzy",
        "outputId": "1347695e-e3ef-4152-fb8d-238057aafa9e"
      },
      "execution_count": 47,
      "outputs": [
        {
          "output_type": "stream",
          "name": "stdout",
          "text": [
            "{'name': 'mithlesh chauhan', 'course': 'data analytics', 'college': 'BHU', 'mobile number': '8948097162'}\n",
            "{'name': 'mithlesh chauhan', 'course': 'data analytics', 'college': 'BHU', 'mobile number': '9598230075'}\n",
            "{'name': 'mithlesh chauhan', 'course': 'data analytics', 'college': 'BHU'}\n"
          ]
        }
      ]
    },
    {
      "cell_type": "markdown",
      "source": [
        "**Question 8**: discuss the importance of the dictionary key being immutable with example.\n",
        "**Answer**: Consistency: Immutability ensures that the hash value of a key remains stable , this make the dictionary faster as the value locates quickly\n",
        "\n",
        "Performance: Mutable objects can change, leading to unpredictable hash values. If dictionary keys were mutable, every change in a key would require rehashing and repositioning the key-value pair, significantly slowing down operations.\n",
        "\n",
        "Error Prevention: By restricting keys to immutable types like strings, numbers, or tuples, Python avoids potential bugs and errors that could arise from mutable keys being altered."
      ],
      "metadata": {
        "id": "vCtpaiv8Drt3"
      }
    },
    {
      "cell_type": "code",
      "source": [
        "my_dict = {[\"key\"]: \"value\"}  # This will throw an error because the key is stored as list whic is mutable\n",
        "# we can only store immutable data stucture in the key\n",
        "\n"
      ],
      "metadata": {
        "id": "-JFnrYtnE_nz"
      },
      "execution_count": null,
      "outputs": []
    },
    {
      "cell_type": "code",
      "source": [
        "dict1={(\"first name\" ,\" last name\"):\"mithlesh chauahn\"}\n",
        "dict2={\"name\": \"mithlesh chauhan\"}\n",
        "print(dict1)\n",
        "print(dict2)"
      ],
      "metadata": {
        "colab": {
          "base_uri": "https://localhost:8080/"
        },
        "id": "gI1zNQNiFs9c",
        "outputId": "24de83e4-e0b6-404c-8597-aaf7011c062a"
      },
      "execution_count": 48,
      "outputs": [
        {
          "output_type": "stream",
          "name": "stdout",
          "text": [
            "{('first name', ' last name'): 'mithlesh chauahn'}\n",
            "{'name': 'mithlesh chauhan'}\n"
          ]
        }
      ]
    },
    {
      "cell_type": "markdown",
      "source": [],
      "metadata": {
        "id": "mx3e22b8od6p"
      }
    }
  ]
}