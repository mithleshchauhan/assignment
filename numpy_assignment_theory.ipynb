{
  "nbformat": 4,
  "nbformat_minor": 0,
  "metadata": {
    "colab": {
      "provenance": []
    },
    "kernelspec": {
      "name": "python3",
      "display_name": "Python 3"
    },
    "language_info": {
      "name": "python"
    }
  },
  "cells": [
    {
      "cell_type": "code",
      "execution_count": null,
      "metadata": {
        "id": "F5gEJ95Rrame"
      },
      "outputs": [],
      "source": [
        "\n"
      ]
    },
    {
      "cell_type": "markdown",
      "source": [
        "**Question1.** Explain the purpose and advantages of NumPy in scientific computing and data analysis.\n",
        " How does it enhance Python's capabilities for numerical operations?\n",
        " **Answer:**\n",
        "NumPy, short for Numerical Python, is a powerful library that significantly boosts Python's capabilities for scientific computing and data analysis.\n",
        "\n",
        "Purpose and Advantages of NumPy:\n",
        "Efficient Array Computations:\n",
        "\n",
        " NumPy provides support for large, multi-dimensional arrays and matrices which allows for efficient array computations, which are crucial for numerical operations and data manipulation.\n",
        " Since it is implemeted in c it makes it faster\n",
        "Broadcasting:\n",
        " This allows operations to be performed on arrays of different shapes which Makes array operations more intuitive and less verbose, enhancing productivity.\n",
        "\n",
        "Extensive Functionality:\n",
        " NumPy offers a wide range of mathematical and statistical functionsso that Users can perform complex calculations and analyses without needing additional libraries.\n",
        "\n",
        "Integration with Other Libraries:\n",
        " NumPy serves as the foundation for many other scientific computing libraries (e.g., SciPy, Pandas, Matplotlib).\n",
        "which  Seamlessly integrates with these libraries, providing a robust ecosystem for scientific computing.\n",
        "\n",
        "Ease of Use:\n",
        " It has a user-friendly syntax that closely resembles mathematical notation.\n",
        "So this Lowers the learning curve and makes it accessible to both beginners and experienced users.\n"
      ],
      "metadata": {
        "id": "9Mx2nLuxd3So"
      }
    },
    {
      "cell_type": "markdown",
      "source": [
        "**Question 2**. Compare and contrast np.mean() and np.average() functions in NumPy. When would you use one over the\n",
        "other?\n",
        "**Answer**:The basic differnce between the np.mean() and np.avrage()\n",
        "is that np.mean() simply calculate the average of the data but np.average() also takes into account the weight of the factors that are of unequal importance .\n",
        "we should use np.mean when there is eqaul amount of importance is given to all the constraints and np.average is used when differnt factor have diffrence importance.\n"
      ],
      "metadata": {
        "id": "-_2kWi0kgZsc"
      }
    },
    {
      "cell_type": "markdown",
      "source": [
        "**Question 3:**3. Describe the methods for reversing a NumPy array along different axes. Provide examples for 1D and 2D\n",
        "arrays.\n",
        "**Answer**:There are mainly two way to reverse the array first we will se one dimentional array\n",
        "here we use the index method to revese the array like list\n",
        "other way is to use np.flip() the examples elaborating the method is below\n"
      ],
      "metadata": {
        "id": "dHhOrm36iNA6"
      }
    },
    {
      "cell_type": "code",
      "source": [
        "#example for one dimention\n",
        "import numpy as np\n",
        "arr=np.array([1,2,3,4,5,6])\n",
        "arr1=arr[::-1]\n",
        "print(f\" the reverse of the array{arr} is \\n\",arr1)\n",
        "arr2=np.flip(arr)\n",
        "print(f\"the flip method also works fine to reverse the array{arr} as below \\n\",arr2)\n"
      ],
      "metadata": {
        "colab": {
          "base_uri": "https://localhost:8080/"
        },
        "id": "-9EKuMAhQ4Ku",
        "outputId": "25eb3f02-bfc5-4f90-9f19-982c7b6b7166"
      },
      "execution_count": null,
      "outputs": [
        {
          "output_type": "stream",
          "name": "stdout",
          "text": [
            " the reverse of the array[1 2 3 4 5 6] is \n",
            " [6 5 4 3 2 1]\n",
            "the flip method also works fine to reverse the array[1 2 3 4 5 6] as below \n",
            " [6 5 4 3 2 1]\n"
          ]
        }
      ]
    },
    {
      "cell_type": "code",
      "source": [
        "#for two dimestional array\n",
        "import numpy as np\n",
        "ar = np.array([[1, 2, 3], [4, 5, 6], [7, 8, 9]])\n",
        "ar1=ar[::-1, ]\n",
        "print(f\"the reverse for \\n{ar}\\n along axis 0 is\\n\",ar1)\n",
        "#using slicing\n",
        "ar2=np.flip(ar,axis=0)\n",
        "print(\"the reverse of the given array along axis 0 using flip is below\\n\",ar2)\n",
        "ar3=np.flip(ar,axis=1)\n",
        "print(\"the reverse of the given array along axis 1 using flip is below\\n\",ar3)\n",
        "ar4=np.flip(ar)\n",
        "print(\"the reverse of the given array along both axis using flip is below\\n\",ar4)\n"
      ],
      "metadata": {
        "colab": {
          "base_uri": "https://localhost:8080/"
        },
        "id": "XlP47q_dcZkj",
        "outputId": "c98b05c7-205b-4843-e9b3-e7b9e69401c6"
      },
      "execution_count": null,
      "outputs": [
        {
          "output_type": "stream",
          "name": "stdout",
          "text": [
            "the reverse for \n",
            "[[1 2 3]\n",
            " [4 5 6]\n",
            " [7 8 9]]\n",
            " along axis 0 is\n",
            " [[7 8 9]\n",
            " [4 5 6]\n",
            " [1 2 3]]\n",
            "the reverse of the given array along axis 0 using flip is below\n",
            " [[7 8 9]\n",
            " [4 5 6]\n",
            " [1 2 3]]\n",
            "the reverse of the given array along axis 1 using flip is below\n",
            " [[3 2 1]\n",
            " [6 5 4]\n",
            " [9 8 7]]\n",
            "the reverse of the given array along both axis using flip is below\n",
            " [[9 8 7]\n",
            " [6 5 4]\n",
            " [3 2 1]]\n"
          ]
        }
      ]
    },
    {
      "cell_type": "markdown",
      "source": [
        "**question4**. How can you determine the data type of elements in a NumPy array? Discuss the importance of data types\n",
        "in memory management and performance.\n",
        "**Answer:**\n",
        "we can determine the data type of elements in a NumPy array using the dtype attribute.\n",
        "There is important rolr of the data type in the numpy because the diffrent  data types have diffrent memory usage to store them\n",
        "for example the 32 bit int take less space than 64 bit int or float  which is important when we are operating on big data set.\n",
        "Sometimes the precison and accuracy is also depends on the data type\n"
      ],
      "metadata": {
        "id": "gnMgrQLee2MF"
      }
    },
    {
      "cell_type": "markdown",
      "source": [
        "**Question 5**: Define ndarrays in NumPy and explain their key features. How do they differ from standard Python lists?\n",
        "**Answer:**\n",
        "Nd array are n dimentional array consist of the homogenous data types it is in the form of grid of values.it is versetile and very usful in the scientific calcualtions.\n",
        "diffrence between the array and list in genral\n",
        "1.list can have the data of diffrent types which can lead to some inconsistency whareas the array have the same data type then it is consistent .\n",
        "2.ndarrays Uses less memory due to efficient storage but Lists are more memory overhead due to the dynamic nature of lists.\n",
        "3. nd array are faster as they are coded in c than the convntional list\n",
        "4. ndarrays are multidimentional in nature but the list in genral not .for making the list work as multi dimensionally we have to use the nested list which is a lot more complex in nature\n"
      ],
      "metadata": {
        "id": "qyyYhjZLgLtG"
      }
    },
    {
      "cell_type": "code",
      "source": [],
      "metadata": {
        "id": "5zBVQQiRccDn"
      },
      "execution_count": null,
      "outputs": []
    },
    {
      "cell_type": "markdown",
      "source": [
        "**Question 6**. Analyze the performance benefits of NumPy arrays over Python lists for large-scale numerical operations.\n",
        "**Answer**:\n",
        "As discussed in the previus question we saw that since the numpy library is written in the c language it is faster than the data types wrtten in the python  so the mathematical operations are also became fast because of a lost of the atrributes used in it whwre as the have not such attributes moreover the multidimensionality makes the numpy more effficient .\n"
      ],
      "metadata": {
        "id": "noTLFJ9birKN"
      }
    },
    {
      "cell_type": "markdown",
      "source": [
        "**Question 7**Compare vstack() and hstack() functions in NumPy. Provide examples demonstrating their usage and\n",
        "output.\n",
        "**Answer:** In summary, vstack() and hstack() are powerful functions for combining arrays in NumPy, with vstack() stacking them vertically and hstack() stacking them horizontally.\n",
        "the example are below"
      ],
      "metadata": {
        "id": "NXsBqg4Wjr8z"
      }
    },
    {
      "cell_type": "code",
      "source": [
        "import numpy as np\n",
        "a=np.array([1,2,3,4,5])\n",
        "b=np.array([6,7,8,9,10])\n",
        "ab=np.vstack((a,b))\n",
        "print(ab)   #here ab is the array where array a and array are combined verstically to form an array ab\n",
        "ab_h=np.hstack((a,b))\n",
        "print(\"the horizontal merger of a and b is \\n\",ab_h)"
      ],
      "metadata": {
        "colab": {
          "base_uri": "https://localhost:8080/"
        },
        "id": "X2bLDp-TsTg5",
        "outputId": "97f316c7-9d74-446f-8305-a05838728e4f"
      },
      "execution_count": null,
      "outputs": [
        {
          "output_type": "stream",
          "name": "stdout",
          "text": [
            "[[ 1  2  3  4  5]\n",
            " [ 6  7  8  9 10]]\n",
            "the horizontal merger of a and b is \n",
            " [ 1  2  3  4  5  6  7  8  9 10]\n"
          ]
        }
      ]
    },
    {
      "cell_type": "code",
      "source": [
        "# vstack and hstack can also be used for 2 dimension also\n",
        "import numpy as np\n",
        "arr=np.array([[1,2,3],[4,5,6]])\n",
        "arr1=np.array([[7,8,9],[10,11,12]])\n",
        "arr2=np.vstack((arr,arr1))\n",
        "arr3=np.hstack((arr,arr1))\n",
        "print(arr2)\n",
        "print(arr3)"
      ],
      "metadata": {
        "colab": {
          "base_uri": "https://localhost:8080/"
        },
        "id": "_lMQMf6ctyCY",
        "outputId": "590e9e71-6eea-4975-cf78-29769a4fa925"
      },
      "execution_count": null,
      "outputs": [
        {
          "output_type": "stream",
          "name": "stdout",
          "text": [
            "[[ 1  2  3]\n",
            " [ 4  5  6]\n",
            " [ 7  8  9]\n",
            " [10 11 12]]\n",
            "[[ 1  2  3  7  8  9]\n",
            " [ 4  5  6 10 11 12]]\n"
          ]
        }
      ]
    },
    {
      "cell_type": "markdown",
      "source": [
        "**Question 8:**Explain the differences between fliplr() and flipud() methods in NumPy, including their effects on various\n",
        "array dimensions.\n",
        "**Answer**:\n",
        "    fliplr() is used to flip the array left to right it works for the two dimesion not for one dimentional array .if we use it for one dimentional array it will throw an error\n",
        "    where as the flipud() flip the array from top to bottom\n",
        "    but the main difference from fliplr() is that it work fine with the one dimentional aaray too.\n"
      ],
      "metadata": {
        "id": "DVcBLgzIu84h"
      }
    },
    {
      "cell_type": "markdown",
      "source": [
        "**Question 9**:9. Discuss the functionality of the array_split() method in NumPy. How does it handle uneven splits?\n",
        "**Answer**: The array_split() method in NumPy is used to split an array into multiple sub-arrays. It is particularly useful when you need to divide an array into equal or approximately equal parts, even if the number of elements isn't perfectly divisible.\n",
        "the example is given below"
      ],
      "metadata": {
        "id": "PRahCbzgLKQk"
      }
    },
    {
      "cell_type": "code",
      "source": [
        "# here array_split() split the original array in subarray with possible equal length even if the length\n",
        "# is not divisible by any sub length\n",
        "import numpy as np\n",
        "arr=np.arange(13)\n",
        "print(arr)\n",
        "arr1=np.array_split(arr,4)\n",
        "print(arr1)"
      ],
      "metadata": {
        "colab": {
          "base_uri": "https://localhost:8080/"
        },
        "id": "D14UTwymL82Q",
        "outputId": "9f18798f-859c-46e6-dd10-332416b66d5d"
      },
      "execution_count": null,
      "outputs": [
        {
          "output_type": "stream",
          "name": "stdout",
          "text": [
            "[ 0  1  2  3  4  5  6  7  8  9 10 11 12]\n",
            "[array([0, 1, 2, 3]), array([4, 5, 6]), array([7, 8, 9]), array([10, 11, 12])]\n"
          ]
        }
      ]
    },
    {
      "cell_type": "markdown",
      "source": [
        "**Question 10**:  Explain the concepts of vectorization and broadcasting in NumPy. How do they contribute to efficient array\n",
        "operations?\n",
        "**Answer**:**Vectorization** involves performing operations on entire arrays or large chunks of data without the need for explicit loops. It leverages low-level optimizations, usually written in C, to handle these operations quickly.\n",
        "it is fast and also very much simple than the loops so, it add efficiency and simplicity in the code.\n",
        "exaple will be given below\n",
        "\n",
        "**Broadcasting** enables NumPy to handle operations on arrays of different shapes and sizes, as long as they are compatible. It stretches the smaller array to match the shape of the larger one without actually copying data.\n",
        "it is used when the shape of the array are differnt\n",
        "eg are below"
      ],
      "metadata": {
        "id": "9Vg9rLduM_6m"
      }
    },
    {
      "cell_type": "code",
      "source": [
        "#vectorisation\n",
        "import numpy as np\n",
        "a=np.array([1,2,3,])\n",
        "b=np.array([4,5,6])\n",
        "c=a+b #it is vectorise addition\n",
        "print(c)"
      ],
      "metadata": {
        "colab": {
          "base_uri": "https://localhost:8080/"
        },
        "id": "mPL_uTlCPysT",
        "outputId": "5e2fd81d-cd35-4156-9e8f-7b71c3dbdd20"
      },
      "execution_count": null,
      "outputs": [
        {
          "output_type": "stream",
          "name": "stdout",
          "text": [
            "[5 7 9]\n"
          ]
        }
      ]
    },
    {
      "cell_type": "code",
      "source": [
        "#brodcasting\n",
        "a = np.array([[1, 2, 3], [4, 5, 6]])\n",
        "b = np.array([10, 20, 30])\n",
        "\n",
        "# Broadcasting b to match the shape of a\n",
        "c = a + b\n",
        "print(c)\n"
      ],
      "metadata": {
        "colab": {
          "base_uri": "https://localhost:8080/"
        },
        "id": "WzDzWh0eQKVI",
        "outputId": "69748512-80bd-42f8-94dd-6eba7ba3b543"
      },
      "execution_count": null,
      "outputs": [
        {
          "output_type": "stream",
          "name": "stdout",
          "text": [
            "[[11 22 33]\n",
            " [14 25 36]]\n"
          ]
        }
      ]
    },
    {
      "cell_type": "code",
      "source": [
        "# using both in the code\n",
        "# Matrix multiplication using vectorization and broadcasting\n",
        "a = np.array([[1, 2], [3, 4]])\n",
        "b = np.array([[5, 6], [7, 8]])\n",
        "\n",
        "product = np.dot(a, b)\n",
        "print(product)\n"
      ],
      "metadata": {
        "colab": {
          "base_uri": "https://localhost:8080/"
        },
        "id": "jfUJ4_4PQb7q",
        "outputId": "de16b3f2-0c5f-40d0-adf8-730d6d8a3484"
      },
      "execution_count": null,
      "outputs": [
        {
          "output_type": "stream",
          "name": "stdout",
          "text": [
            "[[19 22]\n",
            " [43 50]]\n"
          ]
        }
      ]
    }
  ]
}