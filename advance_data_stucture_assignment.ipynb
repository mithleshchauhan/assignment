{
  "nbformat": 4,
  "nbformat_minor": 0,
  "metadata": {
    "colab": {
      "provenance": []
    },
    "kernelspec": {
      "name": "python3",
      "display_name": "Python 3"
    },
    "language_info": {
      "name": "python"
    }
  },
  "cells": [
    {
      "cell_type": "code",
      "execution_count": null,
      "metadata": {
        "colab": {
          "base_uri": "https://localhost:8080/"
        },
        "id": "KUVwnHJQzzy-",
        "outputId": "55b3b10a-ec49-4893-c63a-095c7d2353b9"
      },
      "outputs": [
        {
          "output_type": "stream",
          "name": "stdout",
          "text": [
            "nahuahc hselhtim\n"
          ]
        }
      ],
      "source": [
        "# question 1: write code to reverse a sting.\n",
        "str1=\"mithlesh chauhan\"\n",
        "print(str1[::-1])"
      ]
    },
    {
      "cell_type": "code",
      "source": [
        "# question 2 :Write  code to count the number of vowels in  string\n",
        "str2=\"I am Mithlesh Chauhan\"\n",
        "count=0\n",
        "for char in str2:\n",
        "  if char==\"a\"or char==\"e\"or char==\"i\"or char==\"o\"or char==\"u\"or char==\"A\"or char==\"E\"or char==\"I\"or char==\"O\" or char==\"U\":\n",
        "    count=count+1\n",
        "print(\"the number of vowel in the given string is\",count)"
      ],
      "metadata": {
        "colab": {
          "base_uri": "https://localhost:8080/"
        },
        "id": "N47ify981KS6",
        "outputId": "b3f8afd2-2f89-49d1-def7-62de67fa3785"
      },
      "execution_count": null,
      "outputs": [
        {
          "output_type": "stream",
          "name": "stdout",
          "text": [
            "the number of vowel in the given string is 7\n"
          ]
        }
      ]
    },
    {
      "cell_type": "code",
      "source": [
        "# question3: write a code t check weather a string is palindrome or not.\n",
        "ch3=str(input(\"enter a string \"))\n",
        "ch3=ch3.upper()    # to counter the error if there is upper or lower case diffrence\n",
        "ch4=ch3[::-1]\n",
        "if ch3==ch4:\n",
        "  print(\" the sring is palindrome \")\n",
        "else:\n",
        "  print(\"string is not a palindrome\")\n"
      ],
      "metadata": {
        "colab": {
          "base_uri": "https://localhost:8080/"
        },
        "id": "KLPI89A-2r31",
        "outputId": "8a39960a-c8c3-4f74-8aa2-136b34323ca1"
      },
      "execution_count": null,
      "outputs": [
        {
          "output_type": "stream",
          "name": "stdout",
          "text": [
            "enter a string mim\n",
            " the sring is palindrome \n"
          ]
        }
      ]
    },
    {
      "cell_type": "code",
      "source": [
        "#question 4:Write code to check if two given strings are anagram of each other.\n",
        "st1=str(input(\"enter first string \"))\n",
        "st2=str(input(\"enter second string \"))\n",
        "st1=st1.replace(\" \",\"\")\n",
        "st2=st2.replace(\" \",\"\")\n",
        "st1=sorted(st1)\n",
        "st2=sorted(st2)\n",
        "if st1==st2:\n",
        "  print(\"Both the string are anagram\")\n",
        "else:\n",
        "  print(\"the string are not anagram\")"
      ],
      "metadata": {
        "colab": {
          "base_uri": "https://localhost:8080/"
        },
        "id": "hiNrRx3K4Zh0",
        "outputId": "7e97a2d2-ea08-4ab5-e8cf-f96618c10965"
      },
      "execution_count": null,
      "outputs": [
        {
          "output_type": "stream",
          "name": "stdout",
          "text": [
            "enter first string listen\n",
            "enter second string silent\n",
            "Both the string are anagram\n"
          ]
        }
      ]
    },
    {
      "cell_type": "code",
      "source": [
        "#Question 5: write the code to find all occurances of a given substring within another string\n",
        "def find_all_occurrences(text, substring):\n",
        "    start = 0\n",
        "    occurrences = []\n",
        "\n",
        "    while True:\n",
        "        start = text.find(substring, start)\n",
        "        if start == -1:  # No more occurrences found\n",
        "            break\n",
        "        occurrences.append(start)\n",
        "        start += 1  # Move past the current match\n",
        "\n",
        "    return occurrences\n",
        "\n",
        "# Example usage\n",
        "text = \"This is a test. Testing is fun. Test this out.\"\n",
        "substring = \"test\"\n",
        "result = find_all_occurrences(text.lower(), substring.lower())\n",
        "print(result)\n"
      ],
      "metadata": {
        "colab": {
          "base_uri": "https://localhost:8080/"
        },
        "id": "6k1IaX_h8exi",
        "outputId": "0ecb46d9-362c-4fb8-8e31-3c002e476065"
      },
      "execution_count": null,
      "outputs": [
        {
          "output_type": "stream",
          "name": "stdout",
          "text": [
            "[10, 16, 32]\n"
          ]
        }
      ]
    },
    {
      "cell_type": "code",
      "source": [
        "#question 6: write the code to  perform basic string compression using the count of the repeted charecter.\n",
        "def compress_string(string):\n",
        "\n",
        "\n",
        "\n",
        "  compressed_string = \"\"\n",
        "  count = 1\n",
        "\n",
        "  for i in range(1, len(string)):\n",
        "    if string[i] == string[i - 1]:\n",
        "      count += 1\n",
        "    else:\n",
        "      compressed_string += string[i - 1] + str(count)\n",
        "\n",
        "      count = 1\n",
        "\n",
        "  compressed_string += string[-1] + str(count)\n",
        "\n",
        "  return compressed_string\n",
        "\n",
        "string=\"aaabbbcccccddss\"\n",
        "print(compress_string(string))"
      ],
      "metadata": {
        "colab": {
          "base_uri": "https://localhost:8080/"
        },
        "id": "gKmLCkDH-7PN",
        "outputId": "b573504e-796d-4ddd-d107-e1539a0b8961"
      },
      "execution_count": null,
      "outputs": [
        {
          "output_type": "stream",
          "name": "stdout",
          "text": [
            "a3b3c5d2s2\n"
          ]
        }
      ]
    },
    {
      "cell_type": "code",
      "source": [
        "#Question 7:write a code to find that all the char are unique or not.\n",
        "str7=str(input(\"enter a string \"))\n",
        "str7.replace(\" \",\"\")   #it will remove the space from the string\n",
        "l=len(str7)\n",
        "char_set=set()\n",
        "for char in str7:\n",
        "  char_set.add(char)\n",
        "m=len(char_set)\n",
        "if l==m:\n",
        "  print(\"the string has unique character\")\n",
        "else:\n",
        "  print(\"not unique\")\n",
        "#the basic understanding about this code is that if the length of the string is equal to lenght of the set\n",
        "# which is consist of the unique element of the string then it have uniqe character\n",
        "\n",
        "\n"
      ],
      "metadata": {
        "colab": {
          "base_uri": "https://localhost:8080/"
        },
        "id": "KIPQazoFCSBy",
        "outputId": "0136dc9e-454a-4d1d-c73d-9681c1983938"
      },
      "execution_count": null,
      "outputs": [
        {
          "output_type": "stream",
          "name": "stdout",
          "text": [
            "enter a string mithl\n",
            "the string has unique character\n"
          ]
        }
      ]
    },
    {
      "cell_type": "code",
      "source": [
        "#Question 8: write a string to convert a string to uppercase or lowercase.\n",
        "str8=str(input(\"enter a string  \"))\n",
        "str8=str8.upper()\n",
        "print(str8)\n",
        "str8=str8.lower()\n",
        "print(str8)"
      ],
      "metadata": {
        "colab": {
          "base_uri": "https://localhost:8080/"
        },
        "id": "4jw_dBzgTnyg",
        "outputId": "5a66a054-bbc7-41c4-9283-80bc546a6326"
      },
      "execution_count": null,
      "outputs": [
        {
          "output_type": "stream",
          "name": "stdout",
          "text": [
            "enter a string  MITH\n",
            "MITH\n",
            "mith\n"
          ]
        }
      ]
    },
    {
      "cell_type": "code",
      "source": [
        "#Question9: write a code to count the number of word in a string\n",
        "str9=str(input(\"enter a string \"))\n",
        "words=str9.split()\n",
        "l=len(words)\n",
        "print(l)\n"
      ],
      "metadata": {
        "colab": {
          "base_uri": "https://localhost:8080/"
        },
        "id": "FVtXU7K6XBSY",
        "outputId": "772c262c-e412-4c7e-8fdc-511f0c686c1b"
      },
      "execution_count": null,
      "outputs": [
        {
          "output_type": "stream",
          "name": "stdout",
          "text": [
            "enter a string i am mithlesh chauhan\n",
            "4\n"
          ]
        }
      ]
    },
    {
      "cell_type": "code",
      "source": [
        "#Question10: write a code to con catcatenate two string without using + operator\n",
        "st=str(input(\"input first string \"))\n",
        "string=str(input(\"input second string \"))\n",
        "new_string=\"\"\n",
        "for char in st:\n",
        "  new_string=new_string+char\n",
        "for char in string:\n",
        "  new_string=new_string+char\n",
        "print(new_string)"
      ],
      "metadata": {
        "colab": {
          "base_uri": "https://localhost:8080/"
        },
        "id": "goRnQAB1dSKR",
        "outputId": "5ab5f8a0-61c4-4bf5-f1c8-27c32e394fa1"
      },
      "execution_count": null,
      "outputs": [
        {
          "output_type": "stream",
          "name": "stdout",
          "text": [
            "input first string mith'\n",
            "input second string nnn\n",
            "mith'nnn\n"
          ]
        }
      ]
    },
    {
      "cell_type": "code",
      "source": [
        "#Question11: Write code to remove all occurrences of  specific element from  list\n",
        "list1=[\"mithlesh\",\"mithlesh\",\"chauhan\",\"pw\",\"skills\"]\n",
        "list2=[]\n",
        "for st in list1:\n",
        "   if st!=\"mithlesh\":\n",
        "     list2.append(st)\n",
        "print(list2)"
      ],
      "metadata": {
        "colab": {
          "base_uri": "https://localhost:8080/"
        },
        "id": "Ls6I12GifH5b",
        "outputId": "406d198c-63ae-486f-c21d-5d03e0d34ed7"
      },
      "execution_count": null,
      "outputs": [
        {
          "output_type": "stream",
          "name": "stdout",
          "text": [
            "['chauhan', 'pw', 'skills']\n"
          ]
        }
      ]
    },
    {
      "cell_type": "code",
      "source": [
        "#Question12: implement a code to find second largest number in a given list of integer.\n",
        "list1=[77,32,32,42,41,31,21]\n",
        "list1.sort()\n",
        "print(list1)\n",
        "print(f\"the second largest number in the list is {list1[-2]}\")\n",
        "\n",
        "\n",
        "\n"
      ],
      "metadata": {
        "colab": {
          "base_uri": "https://localhost:8080/"
        },
        "id": "jJlyO7sIksCu",
        "outputId": "35f4724f-2e7a-4c6b-eb61-0baad6a0ce63"
      },
      "execution_count": null,
      "outputs": [
        {
          "output_type": "stream",
          "name": "stdout",
          "text": [
            "[21, 31, 32, 32, 41, 42, 77]\n",
            "the second largest number in the list is 42\n"
          ]
        }
      ]
    },
    {
      "cell_type": "code",
      "source": [
        "#Question13: Create a code to count the number of occurance of each element of the list\n",
        "# and return a dictionary with element as key and count as value\n",
        "list2=[1,3,1,2,3,2,4,5,3,4,5]\n",
        "dict1 = {}\n",
        "# Count the occurrences of each element\n",
        "for element in list2:\n",
        "    if element in dict1:\n",
        "        dict1[element] += 1\n",
        "    else:\n",
        "        dict1[element] = 1\n",
        "print(dict1)\n",
        "\n"
      ],
      "metadata": {
        "colab": {
          "base_uri": "https://localhost:8080/"
        },
        "id": "RNYZgZFQ1P3F",
        "outputId": "d3128b71-88b4-4afb-c04b-1ffdfa81c55f"
      },
      "execution_count": null,
      "outputs": [
        {
          "output_type": "stream",
          "name": "stdout",
          "text": [
            "{1: 2, 3: 3, 2: 2, 4: 2, 5: 2}\n"
          ]
        }
      ]
    },
    {
      "cell_type": "code",
      "source": [
        "#Question 14: Write a code to reverse a without using any builtin function.\n",
        "list3=[1,35,53,12,3,54,2]\n",
        "list3=list3[::-1]\n",
        "print(list3)"
      ],
      "metadata": {
        "colab": {
          "base_uri": "https://localhost:8080/"
        },
        "id": "e_m8tBVD7CX4",
        "outputId": "ea5a4b1f-811e-4e02-f556-8030944fab8d"
      },
      "execution_count": null,
      "outputs": [
        {
          "output_type": "stream",
          "name": "stdout",
          "text": [
            "[2, 54, 3, 12, 53, 35, 1]\n"
          ]
        }
      ]
    },
    {
      "cell_type": "code",
      "source": [
        "#Question 15:implement a code to find and remove a duplicate entry from the list without disturbing the order .\n",
        "list3=[1,35,53,12,1,3,53,54,2,2]\n",
        "list4=[]\n",
        "for num in list3:\n",
        "  if num not in list4:\n",
        "    list4.append(num)\n",
        "print(list4)\n",
        "\n"
      ],
      "metadata": {
        "id": "Kf9cd3o878bq",
        "colab": {
          "base_uri": "https://localhost:8080/"
        },
        "outputId": "2d227386-66ae-4b2a-d9d6-651e3f8463bc"
      },
      "execution_count": null,
      "outputs": [
        {
          "output_type": "stream",
          "name": "stdout",
          "text": [
            "[1, 35, 53, 12, 3, 54, 2]\n"
          ]
        }
      ]
    },
    {
      "cell_type": "code",
      "source": [
        "#Question 16:Create a code to check weather the given list is sorted(eighter in ascending or descending order)or not\n",
        "def is_sorted(lst):\n",
        "    ascending = all(lst[i] <= lst[i + 1] for i in range(len(lst) - 1))\n",
        "    descending = all(lst[i] >= lst[i + 1] for i in range(len(lst) - 1))\n",
        "    if ascending:\n",
        "        return \"The list is sorted in ascending order.\"\n",
        "    elif descending:\n",
        "        return \"The list is sorted in descending order.\"\n",
        "    else:\n",
        "        return \"The list is not sorted.\"\n",
        "\n",
        "# Example usage\n",
        "list7 = [1, 2, 3, 4, 5]\n",
        "print(is_sorted(list7))\n",
        "\n"
      ],
      "metadata": {
        "colab": {
          "base_uri": "https://localhost:8080/"
        },
        "id": "lELsKrEnSkUr",
        "outputId": "0db02cb6-9b57-4542-aa46-a9a85e1b1ccf"
      },
      "execution_count": null,
      "outputs": [
        {
          "output_type": "stream",
          "name": "stdout",
          "text": [
            "The list is sorted in ascending order.\n"
          ]
        }
      ]
    },
    {
      "cell_type": "code",
      "source": [
        "#Question 17: write a code to mearge two sorted list into single sorted list.\n",
        "l=[1,2,3,2,21,34,13]\n",
        "m=[32,53,32,43,22,54,223,56,744,43]\n",
        "l.sort()\n",
        "m.sort()\n",
        "n=l+m\n",
        "n.sort()\n",
        "print(n)\n"
      ],
      "metadata": {
        "colab": {
          "base_uri": "https://localhost:8080/"
        },
        "id": "XShXiHNCXg3K",
        "outputId": "f650bfd8-f9e2-4d81-a895-2c488650a355"
      },
      "execution_count": null,
      "outputs": [
        {
          "output_type": "stream",
          "name": "stdout",
          "text": [
            "[1, 2, 2, 3, 13, 21, 22, 32, 32, 34, 43, 43, 53, 54, 56, 223, 744]\n"
          ]
        }
      ]
    },
    {
      "cell_type": "code",
      "source": [
        "# implement acode to find the intersection of two list.\n",
        "def intersection(list1, list2):\n",
        "    \"\"\"Finds the intersection of two lists.\"\"\"\n",
        "    intersection_list = []\n",
        "    for item in list1:\n",
        "        if item in list2 :\n",
        "            intersection_list.append(item)\n",
        "    return intersection_list\n",
        "\n",
        "# Example usage\n",
        "print(intersection([1, 2, 3, 4,5, 5], [3, 4, 5, 6,5, 7]))\n",
        "\n"
      ],
      "metadata": {
        "id": "i4gy69Lq4ZEO",
        "colab": {
          "base_uri": "https://localhost:8080/"
        },
        "outputId": "9f6afdde-ed2b-4445-f542-e0d4fb252f03"
      },
      "execution_count": 10,
      "outputs": [
        {
          "output_type": "stream",
          "name": "stdout",
          "text": [
            "[3, 4, 5, 5]\n"
          ]
        }
      ]
    },
    {
      "cell_type": "code",
      "source": [
        "#Question18: Creat a code that finds the union of two list without duplicates.\n",
        "def union_list(list3,list4):\n",
        "  set3=set(list3)\n",
        "  set4=set(list4)\n",
        "  union_set= set3.union(set4)\n",
        "  return union_set\n",
        "list1=[1,2,3,4,5,6,7,8]\n",
        "list2=[4,5,6,7,8,9,10]\n",
        "print(union_list(list1,list2))\n",
        "\n",
        "\n"
      ],
      "metadata": {
        "colab": {
          "base_uri": "https://localhost:8080/"
        },
        "id": "Gob_U1_V7eNU",
        "outputId": "5f8e6bae-e75c-463c-b9cb-38a45628e2ec"
      },
      "execution_count": 13,
      "outputs": [
        {
          "output_type": "stream",
          "name": "stdout",
          "text": [
            "{1, 2, 3, 4, 5, 6, 7, 8, 9, 10}\n"
          ]
        }
      ]
    },
    {
      "cell_type": "code",
      "source": [
        "#Question 20: write a code to suffle the element of the list without using any inbuilt function\n",
        "import random\n",
        "\n",
        "def shuffle_list(lst):\n",
        "  \"\"\"Shuffles the elements of a list in-place without using built-in functions.\"\"\"\n",
        "\n",
        "  for i in range(len(lst)):\n",
        "    # Generate a random index between i and the end of the list\n",
        "    j = random.randint(i, len(lst) - 1)\n",
        "\n",
        "    # Swap the elements at indices i and j\n",
        "    lst[i], lst[j] = lst[j], lst[i]\n",
        "\n",
        "# Example usage\n",
        "my_list = [1, 2, 3, 4, 5]\n",
        "shuffle_list(my_list)\n",
        "print(my_list)"
      ],
      "metadata": {
        "colab": {
          "base_uri": "https://localhost:8080/"
        },
        "id": "O1R0TsXq99Gu",
        "outputId": "54c4355c-e4c4-45b3-9642-222489c85c9d"
      },
      "execution_count": 15,
      "outputs": [
        {
          "output_type": "stream",
          "name": "stdout",
          "text": [
            "[1, 4, 5, 3, 2]\n"
          ]
        }
      ]
    },
    {
      "cell_type": "code",
      "source": [
        "#Question21:Write a code to take two tuple as input and return a new tuple which have common element of both tuples\n",
        "def common_elements(tuple1, tuple2):\n",
        "    return tuple(set(tuple1) & set(tuple2))\n",
        "\n",
        "\n",
        "tuple1 = (1, 2, 3, 4, 5)\n",
        "tuple2 = (4, 5, 6, 7, 8)\n",
        "result = common_elements(tuple1, tuple2)\n",
        "print(result)\n"
      ],
      "metadata": {
        "colab": {
          "base_uri": "https://localhost:8080/"
        },
        "id": "bJDXSwCG_BO5",
        "outputId": "73436657-c5bf-46ec-c0c6-b88c01628a90"
      },
      "execution_count": 16,
      "outputs": [
        {
          "output_type": "stream",
          "name": "stdout",
          "text": [
            "(4, 5)\n"
          ]
        }
      ]
    },
    {
      "cell_type": "code",
      "source": [
        "#Question23: Create a code that prompts the user to enter two sets of integers separated by commas. Then, print the\n",
        "# intersection of these two sets\n",
        "set1=set(map(int, input(\"enter element of set1 \").split(',')))\n",
        "set2=set(map(int, input(\"enter element of set2 \").split(',')))\n",
        "set3=set1.intersection(set2)\n",
        "print(f\"the intersection of both set are {set3}\")"
      ],
      "metadata": {
        "colab": {
          "base_uri": "https://localhost:8080/"
        },
        "id": "mecxHBUVAPED",
        "outputId": "37c3a443-1e18-4af6-f592-5252594adec4"
      },
      "execution_count": 25,
      "outputs": [
        {
          "output_type": "stream",
          "name": "stdout",
          "text": [
            "enter element of set1 1,2,3,4,5,6\n",
            "enter element of set2 3,4,5,6,7,8,9\n",
            "the intersection of both set are {3, 4, 5, 6}\n"
          ]
        }
      ]
    },
    {
      "cell_type": "code",
      "source": [
        "#Question23: Write a code to concatenate two tuples. The function should take two tuples as input and return a new\n",
        "#tuple containing elements from both input tuples\n",
        "def concatenate_tuples(tuple1, tuple2):\n",
        "    return tuple1 + tuple2\n",
        "\n",
        "# Example usage\n",
        "tuple1 = (1, 2, 3)\n",
        "tuple2 = (4, 5, 6)\n",
        "result = concatenate_tuples(tuple1, tuple2)\n",
        "print(result)\n"
      ],
      "metadata": {
        "colab": {
          "base_uri": "https://localhost:8080/"
        },
        "id": "5Lo3h9DdCvpj",
        "outputId": "d0c508f7-1c6e-4dad-aa27-30dba455aca5"
      },
      "execution_count": 26,
      "outputs": [
        {
          "output_type": "stream",
          "name": "stdout",
          "text": [
            "(1, 2, 3, 4, 5, 6)\n"
          ]
        }
      ]
    },
    {
      "cell_type": "code",
      "source": [
        "#Question24:Develop a code that prompts the user to input two sets of strings. Then, print the elements that are\n",
        "#           present in the first set but not in the second set.\n",
        "def get_set_from_input(prompt):\n",
        "    return set(input(prompt).split(','))\n",
        "\n",
        "# Prompt the user for input and calculate the difference\n",
        "set1 = get_set_from_input(\"Enter the first set of strings, separated by commas: \")\n",
        "set2 = get_set_from_input(\"Enter the second set of strings, separated by commas: \")\n",
        "\n",
        "difference_set = set1 - set2\n",
        "print(\"Elements present in the first set but not in the second set:\", difference_set)\n"
      ],
      "metadata": {
        "colab": {
          "base_uri": "https://localhost:8080/"
        },
        "id": "AT5NboRfDQCT",
        "outputId": "4aa1acf6-464b-4dc9-c50a-92f31ed47656"
      },
      "execution_count": 27,
      "outputs": [
        {
          "output_type": "stream",
          "name": "stdout",
          "text": [
            "Enter the first set of strings, separated by commas: 1,2,3,45,5,6,7\n",
            "Enter the second set of strings, separated by commas: 4,5,6,78,8\n",
            "Elements present in the first set but not in the second set: {'1', '3', '2', '7', '45'}\n"
          ]
        }
      ]
    },
    {
      "cell_type": "code",
      "source": [
        "#qustion25:Create a code that takes a tuple and two integers as input. The function should return a new tuple\n",
        "#          containing elements from the original tuple within the specified range of indices\n",
        "def slice_tuple(input_tuple, start_index, end_index):\n",
        "    # Validate indices\n",
        "    if start_index < 0 or end_index >= len(input_tuple) or start_index > end_index:\n",
        "        return \"Invalid indices\"\n",
        "\n",
        "    # Slice the tuple\n",
        "    return input_tuple[start_index:end_index + 1]\n",
        "\n",
        "# Example usage\n",
        "input_tuple = (10, 20, 30, 40, 50, 60, 70, 80)\n",
        "start_index = 2\n",
        "end_index = 5\n",
        "\n",
        "result = slice_tuple(input_tuple, start_index, end_index)\n",
        "print(result)\n"
      ],
      "metadata": {
        "colab": {
          "base_uri": "https://localhost:8080/"
        },
        "id": "AsrJecDrCwga",
        "outputId": "146b162e-5e72-4991-cc86-c6e908be21b1"
      },
      "execution_count": 28,
      "outputs": [
        {
          "output_type": "stream",
          "name": "stdout",
          "text": [
            "(30, 40, 50, 60)\n"
          ]
        }
      ]
    },
    {
      "cell_type": "code",
      "source": [
        "#Question 26:Write a code that prompts the user to input two sets of characters. Then, print the union of these two sets.\n",
        "def get_set_from_input(prompt):\n",
        "    return set(input(prompt).split(','))\n",
        "\n",
        "# Prompt the user for input\n",
        "set1 = get_set_from_input(\"Enter the first set of characters, separated by commas: \")\n",
        "set2 = get_set_from_input(\"Enter the second set of characters, separated by commas: \")\n",
        "\n",
        "# Find the union of the two sets\n",
        "union_set = set1 | set2\n",
        "\n",
        "# Print the result\n",
        "print(\"The union of the two sets is:\", union_set)\n"
      ],
      "metadata": {
        "colab": {
          "base_uri": "https://localhost:8080/"
        },
        "id": "JbuzgLN5D-dn",
        "outputId": "1c0bba05-befe-4399-b5eb-e2e596ce6c0e"
      },
      "execution_count": 29,
      "outputs": [
        {
          "output_type": "stream",
          "name": "stdout",
          "text": [
            "Enter the first set of characters, separated by commas: mith,lesh,chauhan,ramesh,suresh\n",
            "Enter the second set of characters, separated by commas: mith,suresh,chauhan\n",
            "The union of the two sets is: {'suresh', 'chauhan', 'ramesh', 'lesh', 'mith'}\n"
          ]
        }
      ]
    },
    {
      "cell_type": "code",
      "source": [
        "#question 27:Develop a code that takes a tuple of integers as input. The function should return the maximum and\n",
        "#minimum values from the tuple using tuple unpacking.\n",
        "def find_max_min(input_tuple):\n",
        "    max_value = max(input_tuple)\n",
        "    min_value = min(input_tuple)\n",
        "    return max_value, min_value\n",
        "\n",
        "# Example usage\n",
        "input_tuple = (10, 20, 30, 40, 5, 60, 70, 15)\n",
        "max_value, min_value = find_max_min(input_tuple)\n",
        "print(f\"Maximum value: {max_value}, Minimum value: {min_value}\")\n"
      ],
      "metadata": {
        "colab": {
          "base_uri": "https://localhost:8080/"
        },
        "id": "OAsVOt1cEcp-",
        "outputId": "8f3a1d42-b70d-4052-c03b-6d6bc86b3315"
      },
      "execution_count": 30,
      "outputs": [
        {
          "output_type": "stream",
          "name": "stdout",
          "text": [
            "Maximum value: 70, Minimum value: 5\n"
          ]
        }
      ]
    },
    {
      "cell_type": "code",
      "source": [
        "#Question 28:Create a code that defines two sets of integers. Then, print the union, intersection, and difference of these\n",
        "#            two sets.\n",
        "# Define two sets of integers\n",
        "set1 = {1, 2, 3, 4, 5}\n",
        "set2 = {4, 5, 6, 7, 8}\n",
        "\n",
        "# Union of the sets\n",
        "union_set = set1 | set2\n",
        "print(\"Union of the sets:\", union_set)\n",
        "\n",
        "# Intersection of the sets\n",
        "intersection_set = set1 & set2\n",
        "print(\"Intersection of the sets:\", intersection_set)\n",
        "\n",
        "# Difference of the sets (set1 - set2)\n",
        "difference_set1 = set1 - set2\n",
        "print(\"Difference of set1 - set2:\", difference_set1)\n",
        "\n",
        "# Difference of the sets (set2 - set1)\n",
        "difference_set2 = set2 - set1\n",
        "print(\"Difference of set2 - set1:\", difference_set2)\n"
      ],
      "metadata": {
        "colab": {
          "base_uri": "https://localhost:8080/"
        },
        "id": "HoR4nrP3Fh3-",
        "outputId": "701cfbe6-f8f5-4302-d1dd-6dbb30e2d4e9"
      },
      "execution_count": 31,
      "outputs": [
        {
          "output_type": "stream",
          "name": "stdout",
          "text": [
            "Union of the sets: {1, 2, 3, 4, 5, 6, 7, 8}\n",
            "Intersection of the sets: {4, 5}\n",
            "Difference of set1 - set2: {1, 2, 3}\n",
            "Difference of set2 - set1: {8, 6, 7}\n"
          ]
        }
      ]
    },
    {
      "cell_type": "code",
      "source": [
        "#question 29:Write a code that takes a tuple and an element as input. The function should return the count of\n",
        "#occurrences of the given element in the tuple\n",
        "def count_occurrences(tuple, element):\n",
        "  \"\"\"Counts the occurrences of an element in a tuple.\n",
        "\n",
        "  Args:\n",
        "    tuple: The input tuple.\n",
        "    element: The element to count.\n",
        "\n",
        "  Returns:\n",
        "    The number of occurrences of the element in the tuple.\n",
        "  \"\"\"\n",
        "\n",
        "  count = 0\n",
        "  for item in tuple:\n",
        "    if item == element:\n",
        "      count += 1\n",
        "  return count\n",
        "\n",
        "# Example usage\n",
        "my_tuple = (1, 2, 3, 2, 4, 2)\n",
        "element_to_count = 2\n",
        "result = count_occurrences(my_tuple, element_to_count)\n",
        "print(result)\n",
        "\n"
      ],
      "metadata": {
        "colab": {
          "base_uri": "https://localhost:8080/"
        },
        "id": "YW76zYfqF6Nt",
        "outputId": "8d719638-04f1-4e8c-c060-f449499f5f2c"
      },
      "execution_count": 33,
      "outputs": [
        {
          "output_type": "stream",
          "name": "stdout",
          "text": [
            "3\n"
          ]
        }
      ]
    },
    {
      "cell_type": "code",
      "source": [
        "#question30:Develop a code that prompts the user to input two sets of strings. Then, print the symmetric difference of\n",
        "#these two sets.\n",
        "def symmetric_difference(set1, set2):\n",
        "  \"\"\"Calculates the symmetric difference of two sets.\n",
        "\n",
        "  Args:\n",
        "    set1: The first set.\n",
        "    set2: The second set.\n",
        "\n",
        "  Returns:\n",
        "    The symmetric difference of the two sets.\n",
        "  \"\"\"\n",
        "\n",
        "  return set1.symmetric_difference(set2)\n",
        "\n",
        "# Get input from the user\n",
        "set1_str = input(\"Enter elements for set 1 (separated by spaces): \")\n",
        "set2_str = input(\"Enter elements for set 2 (separated by spaces): \")\n",
        "\n",
        "# Create sets from the input strings\n",
        "set1 = set(set1_str.split())\n",
        "set2 = set(set2_str.split())\n",
        "\n",
        "# Calculate and print the symmetric difference\n",
        "result = symmetric_difference(set1, set2)\n",
        "print(\"Symmetric difference:\", result)"
      ],
      "metadata": {
        "colab": {
          "base_uri": "https://localhost:8080/"
        },
        "id": "kNzgCpzcGe9C",
        "outputId": "a76ffbb9-da3d-4047-aee9-535f8b2546b3"
      },
      "execution_count": 34,
      "outputs": [
        {
          "output_type": "stream",
          "name": "stdout",
          "text": [
            "Enter elements for set 1 (separated by spaces): 1 2 34 56 75 \n",
            "Enter elements for set 2 (separated by spaces): 1 2 3 5 3 56 \n",
            "Symmetric difference: {'75', '5', '3', '34'}\n"
          ]
        }
      ]
    },
    {
      "cell_type": "code",
      "source": [
        "#Question31: Write a code that takes a list of words as input and returns a dictionary where the keys are unique words\n",
        "#and the values are the frequencies of those words in the input list\n",
        "\n",
        "def word_frequencies(word_list):\n",
        "    frequency_dict = {}\n",
        "    for word in word_list:\n",
        "        if word in frequency_dict:\n",
        "            frequency_dict[word] += 1\n",
        "        else:\n",
        "            frequency_dict[word] = 1\n",
        "    return frequency_dict\n",
        "\n",
        "# Example usage\n",
        "words = [\"apple\", \"banana\", \"apple\", \"orange\", \"banana\", \"apple\"]\n",
        "result = word_frequencies(words)\n",
        "print(result)\n"
      ],
      "metadata": {
        "colab": {
          "base_uri": "https://localhost:8080/"
        },
        "id": "-GUdtMK4HJUt",
        "outputId": "e54ef2c8-83f1-4fcf-fba8-e358b9605aa3"
      },
      "execution_count": 36,
      "outputs": [
        {
          "output_type": "stream",
          "name": "stdout",
          "text": [
            "{'apple': 3, 'banana': 2, 'orange': 1}\n"
          ]
        }
      ]
    },
    {
      "cell_type": "code",
      "source": [
        "#Question32:Write a code that takes two dictionaries as input and merges them into a single dictionary. If there are\n",
        "#          common keys, the values should be added together\n",
        "def merge_dictionaries(dict1, dict2):\n",
        "    merged_dict = dict1.copy()  # Start with a copy of the first dictionary\n",
        "\n",
        "    for key, value in dict2.items():\n",
        "        if key in merged_dict:\n",
        "            merged_dict[key] += value\n",
        "        else:\n",
        "            merged_dict[key] = value\n",
        "\n",
        "    return merged_dict\n",
        "\n",
        "# Example usage\n",
        "dict1 = {'a': 10, 'b': 20, 'c': 30}\n",
        "dict2 = {'b': 5, 'c': 15, 'd': 25}\n",
        "\n",
        "result = merge_dictionaries(dict1, dict2)\n",
        "print(result)\n"
      ],
      "metadata": {
        "colab": {
          "base_uri": "https://localhost:8080/"
        },
        "id": "rzidsrMGHU6W",
        "outputId": "38c18d93-63bc-4c1f-b4b7-21d936fdfb6b"
      },
      "execution_count": 37,
      "outputs": [
        {
          "output_type": "stream",
          "name": "stdout",
          "text": [
            "{'a': 10, 'b': 25, 'c': 45, 'd': 25}\n"
          ]
        }
      ]
    },
    {
      "cell_type": "code",
      "source": [
        "#Question 33:& Write a code to access a value in a nested dictionary. The function should take the dictionary and a list of\n",
        "#keys as input, and return the corresponding value. If any of the keys do not exist in the dictionary, the\n",
        "#function should return None.\n",
        "def get_nested_value(nested_dict, keys):\n",
        "    current_dict = nested_dict\n",
        "    for key in keys:\n",
        "        if isinstance(current_dict, dict) and key in current_dict:\n",
        "            current_dict = current_dict[key]\n",
        "        else:\n",
        "            return None\n",
        "    return current_dict\n",
        "\n",
        "# Example usage\n",
        "nested_dict = {\n",
        "    'a': {\n",
        "        'b': {\n",
        "            'c': 'value'\n",
        "        }\n",
        "    }\n",
        "}\n",
        "keys = ['a', 'b', 'c']\n",
        "value = get_nested_value(nested_dict, keys)\n",
        "print(value)\n",
        "\n",
        "keys = ['a', 'b', 'x']\n",
        "value = get_nested_value(nested_dict, keys)\n",
        "print(value)\n"
      ],
      "metadata": {
        "colab": {
          "base_uri": "https://localhost:8080/"
        },
        "id": "3Ma0Bu99Hp_9",
        "outputId": "9dc18633-3ee5-4ae0-8837-b8d953cc224c"
      },
      "execution_count": 38,
      "outputs": [
        {
          "output_type": "stream",
          "name": "stdout",
          "text": [
            "value\n",
            "None\n"
          ]
        }
      ]
    },
    {
      "cell_type": "code",
      "source": [
        "#Question34:Write a code that takes a dictionary as input and returns a sorted version of it based on the values. You\n",
        "#can choose whether to sort in ascending or descending order.\n",
        "def sort_dict_by_values(input_dict, ascending=True):\n",
        "    sorted_items = sorted(input_dict.items(), key=lambda item: item[1], reverse=not ascending)\n",
        "    return dict(sorted_items)\n",
        "\n",
        "# Example usage\n",
        "input_dict = {'a': 3, 'b': 1, 'c': 2}\n",
        "sorted_dict_asc = sort_dict_by_values(input_dict, ascending=True)\n",
        "sorted_dict_desc = sort_dict_by_values(input_dict, ascending=False)\n",
        "\n",
        "print(\"Sorted dictionary (ascending):\", sorted_dict_asc)\n",
        "print(\"Sorted dictionary (descending):\", sorted_dict_desc)\n"
      ],
      "metadata": {
        "colab": {
          "base_uri": "https://localhost:8080/"
        },
        "id": "AuSwbDVEICEg",
        "outputId": "8582ece9-76cc-44ad-aa01-82120418c389"
      },
      "execution_count": 39,
      "outputs": [
        {
          "output_type": "stream",
          "name": "stdout",
          "text": [
            "Sorted dictionary (ascending): {'b': 1, 'c': 2, 'a': 3}\n",
            "Sorted dictionary (descending): {'a': 3, 'c': 2, 'b': 1}\n"
          ]
        }
      ]
    },
    {
      "cell_type": "code",
      "source": [
        "#question35:Write a code that inverts a dictionary, swapping keys and values. Ensure that the inverted dictionary\n",
        "#correctly handles cases where multiple keys have the same value by storing the keys as a list in the\n",
        "#inverted dictionary\n",
        "def invert_dict(input_dict):\n",
        "    inverted_dict = {}\n",
        "    for key, value in input_dict.items():\n",
        "        if value in inverted_dict:\n",
        "            inverted_dict[value].append(key)\n",
        "        else:\n",
        "            inverted_dict[value] = [key]\n",
        "    return inverted_dict\n",
        "\n",
        "# Example usage\n",
        "input_dict = {'a': 1, 'b': 2, 'c': 1, 'd': 3}\n",
        "result = invert_dict(input_dict)\n",
        "print(result)  # Outputs: {1: ['a', 'c'], 2: ['b'], 3: ['d']}\n"
      ],
      "metadata": {
        "colab": {
          "base_uri": "https://localhost:8080/"
        },
        "id": "IbZMFRTcIS6j",
        "outputId": "479d44b4-cbd2-43e6-e81b-e96b8bdef36a"
      },
      "execution_count": 40,
      "outputs": [
        {
          "output_type": "stream",
          "name": "stdout",
          "text": [
            "{1: ['a', 'c'], 2: ['b'], 3: ['d']}\n"
          ]
        }
      ]
    }
  ]
}