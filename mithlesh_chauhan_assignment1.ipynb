{
  "nbformat": 4,
  "nbformat_minor": 0,
  "metadata": {
    "colab": {
      "provenance": []
    },
    "kernelspec": {
      "name": "python3",
      "display_name": "Python 3"
    },
    "language_info": {
      "name": "python"
    }
  },
  "cells": [
    {
      "cell_type": "code",
      "execution_count": null,
      "metadata": {
        "id": "ff9WmV5icdAl"
      },
      "outputs": [],
      "source": []
    },
    {
      "cell_type": "markdown",
      "source": [
        "question 1:**Explain the key feature of the python that make it a popular choice of the programming.**\n",
        "Answer(1):\n",
        "Python is a programming language which is widly used in the industry for the following reasons:\n",
        "a) very easy to use and undersatand\n",
        "b) wide use in many field for example data science ,ML , web development, AI etc.\n",
        "c)large number of libraries are also one of the reason why the python is popular as there is diffrent library  different work\n",
        "d) Large community of user is also a reson behind the popularity of the language .\n",
        "**Question2**:Describe the role of the predifined role of the keywords in python and provide example how they are used in a program.\n",
        "**Answer**:\n",
        "there are many predifined keywords in the python just to do some specific works and have specific meaning we cannot use keywords as variable name function etc.\n",
        "there are 33 reserve keywords in python\n",
        "for example if ,elese, elif,True,False.\n",
        "below code have example for the same.\n",
        "\n",
        "      "
      ],
      "metadata": {
        "id": "Epcwwunhcdjo"
      }
    },
    {
      "cell_type": "code",
      "source": [
        "n=5\n",
        "m=6\n",
        "if (m==n):\n",
        "  True\n",
        "else:\n",
        "  False"
      ],
      "metadata": {
        "id": "qNr5G9RA2dxf"
      },
      "execution_count": 1,
      "outputs": []
    },
    {
      "cell_type": "markdown",
      "source": [
        "Question3: Compare and contrast the mutable and immutable objects in python with example.\n",
        "Answer:\n",
        "The data types which can be changed even after thier creation are mutable and those data types which cannot be changed or modified after their creation are called immutable objects.\n",
        "For example the list is mutable we can append it even after the creation but tupples are  immutable they cannot be changed or modified once they are created. example is given below as a code when we try to assign a value in a string it will trow an error\n",
        "and list are easily assined with new value at the end of it.\n"
      ],
      "metadata": {
        "id": "mquAdYNBePzk"
      }
    },
    {
      "cell_type": "code",
      "source": [
        "name=[]\n",
        "name.append(\"mithlesh\")\n",
        "print(name)\n",
        "name.append(\"data analytics\")\n",
        "print(name)\n",
        "#here the list is mutable hence we add the entry to it as many times we want to append"
      ],
      "metadata": {
        "colab": {
          "base_uri": "https://localhost:8080/"
        },
        "id": "vMg0DSp25djW",
        "outputId": "33da36d1-bcff-413d-a77f-3fd631d57a5f"
      },
      "execution_count": 3,
      "outputs": [
        {
          "output_type": "stream",
          "name": "stdout",
          "text": [
            "['mithlesh']\n",
            "['mithlesh', 'data analytics']\n"
          ]
        }
      ]
    },
    {
      "cell_type": "code",
      "source": [
        "name=\"Mithlesh\"\n",
        "name[1]='A'\n",
        "print(name)\n",
        "#here we saw the error that string does not support assiggnment\n",
        "# so it is the basic differnce between mutable and immitable object in python\n",
        "# both have diffrent use cases\n"
      ],
      "metadata": {
        "colab": {
          "base_uri": "https://localhost:8080/",
          "height": 181
        },
        "id": "ntjTtm0G6BBS",
        "outputId": "c8c16223-7a55-4781-a9dc-4cb2b502da0f"
      },
      "execution_count": 5,
      "outputs": [
        {
          "output_type": "error",
          "ename": "TypeError",
          "evalue": "'str' object does not support item assignment",
          "traceback": [
            "\u001b[0;31m---------------------------------------------------------------------------\u001b[0m",
            "\u001b[0;31mTypeError\u001b[0m                                 Traceback (most recent call last)",
            "\u001b[0;32m<ipython-input-5-740a936b6159>\u001b[0m in \u001b[0;36m<cell line: 2>\u001b[0;34m()\u001b[0m\n\u001b[1;32m      1\u001b[0m \u001b[0mname\u001b[0m\u001b[0;34m=\u001b[0m\u001b[0;34m\"Mithlesh\"\u001b[0m\u001b[0;34m\u001b[0m\u001b[0;34m\u001b[0m\u001b[0m\n\u001b[0;32m----> 2\u001b[0;31m \u001b[0mname\u001b[0m\u001b[0;34m[\u001b[0m\u001b[0;36m1\u001b[0m\u001b[0;34m]\u001b[0m\u001b[0;34m=\u001b[0m\u001b[0;34m'A'\u001b[0m\u001b[0;34m\u001b[0m\u001b[0;34m\u001b[0m\u001b[0m\n\u001b[0m\u001b[1;32m      3\u001b[0m \u001b[0mprint\u001b[0m\u001b[0;34m(\u001b[0m\u001b[0mname\u001b[0m\u001b[0;34m)\u001b[0m\u001b[0;34m\u001b[0m\u001b[0;34m\u001b[0m\u001b[0m\n",
            "\u001b[0;31mTypeError\u001b[0m: 'str' object does not support item assignment"
          ]
        }
      ]
    },
    {
      "cell_type": "markdown",
      "source": [
        "**Question4**:Discuss diffrent types of opertaor in python and provide example of how they are used.\n",
        "**Answer**:Opertaors are the special keyword and symbols that are used to perform operation on certain values.There are basically 7 types of operator which are used in python which are discussed below\n",
        "**ARITHMATIC OPERATOR**: the mathematical operators are used to perform the basic mathematical opretions like addition subtraction multiplication and division etc.\n",
        "for example\n",
        "            a,b=3,5\n",
        "            (a+b) will add a and b\n",
        "**Comparison operator**: It is used to compare the values\n",
        "for example >,<,>=,<= etc.\n",
        "**logical operator**: logical operator are used to develop logic in the pthon code .\n",
        " for example AND ,OR,NOT etc\n",
        "** Assignment operator**: These operators are used to assingment of value to the variable.for example a=3 here 3 is assign to the variable a.\n",
        "**membership operator**: this operator is used to find weather the desired object present in string or list or dictionary or not.\n",
        "\n",
        "\n",
        "\n",
        "        \n",
        "\n",
        "\n",
        "         "
      ],
      "metadata": {
        "id": "Q99XKwYq61MI"
      }
    },
    {
      "cell_type": "code",
      "source": [],
      "metadata": {
        "id": "BZEtafgx5G3e"
      },
      "execution_count": null,
      "outputs": []
    },
    {
      "cell_type": "markdown",
      "source": [
        "QUESTION 5: Explain the concept of typcasting in the python with\n",
        "            example.\n",
        "ANSWER:the python always takes the input from user as the string weather it is integer or float or charachter or a string.\n",
        "python itself detect the data type implicitly but some time user have to define it explicitly .\n",
        "        so, typcasting is the process of changing the the data type of the values or object.example is given below as the code.\n",
        "        \n"
      ],
      "metadata": {
        "id": "vzEAMji1EH1B"
      }
    },
    {
      "cell_type": "code",
      "source": [
        "num=input(\"enter a number \") #here the default input is a string\n",
        "int(num)   #in this line of code the string is changed to integer type.\n",
        "float(num) # here the integer is changed to floating value\n",
        "# here we cannot change char to integer or float so we have to be careful while typecasting\n",
        "\n"
      ],
      "metadata": {
        "colab": {
          "base_uri": "https://localhost:8080/"
        },
        "id": "4IiLkXnwFdGL",
        "outputId": "fcda3556-62d9-49c2-a08d-7b0edf2c1ba6"
      },
      "execution_count": 4,
      "outputs": [
        {
          "name": "stdout",
          "output_type": "stream",
          "text": [
            "enter a number 56\n"
          ]
        },
        {
          "output_type": "execute_result",
          "data": {
            "text/plain": [
              "56.0"
            ]
          },
          "metadata": {},
          "execution_count": 4
        }
      ]
    },
    {
      "cell_type": "markdown",
      "source": [
        "QUESTION 6:How do the conditional statment work in python ? Illustrate with example.\n",
        "Answer:The conditional statment in python is used to check some pre condition  if the condition is true then the that part will be executed otherwise if the condition is false then it jump to another part for example if and else statment\n",
        "exapmle with the code is below:\n"
      ],
      "metadata": {
        "id": "s9M3N79WGVLK"
      }
    },
    {
      "cell_type": "code",
      "source": [
        "num=int(input(\"enter a number\"))\n",
        "#here we use conditional statment to find weather a number is even or odd\n",
        "if num%2==0:                           # here if the condition is true then this part will be executed\n",
        "  print(f\"the number {num} is even\")\n",
        "else:\n",
        "  print(f\"the number {num} is odd\")    #otherwise this part will be executed\n"
      ],
      "metadata": {
        "colab": {
          "base_uri": "https://localhost:8080/"
        },
        "id": "636Dl9kkJTvM",
        "outputId": "36a2b31c-803f-43ad-8c3f-79b0ca2b4bf8"
      },
      "execution_count": 5,
      "outputs": [
        {
          "output_type": "stream",
          "name": "stdout",
          "text": [
            "enter a number54\n",
            "the number 54 is even\n"
          ]
        }
      ]
    },
    {
      "cell_type": "markdown",
      "source": [
        "QUESTION 7 : Describe the diffrent type of loops in python and their usecases with example.\n",
        "Answer:Loops allows us to execute a block of code repetedly untill the condition become false\n",
        "      There are two kind of loop in python\n",
        "      a) while loop\n",
        "      b) for loop\n",
        "for loops are usually used to iterate the operation on list table and sets etc.\n",
        "whereas in while loop it operates without the prior knowledge of number of iteration it will take.\n",
        "example with code are below\n",
        "\n",
        "      "
      ],
      "metadata": {
        "id": "6tR2fU3iL333"
      }
    },
    {
      "cell_type": "code",
      "source": [
        "#while loop\n",
        "num=int(input(\"enter the numeber\"))\n",
        "# we are going to find the square of thr number upto the nth term the user enter\n",
        "while num>0:\n",
        "  sqr=num**2\n",
        "  print(f\"the square of {num} is  {sqr}\")\n",
        "  num-=1\n",
        "else:\n",
        "  print(\"the while loop ran successfully\")\n",
        "\n"
      ],
      "metadata": {
        "colab": {
          "base_uri": "https://localhost:8080/"
        },
        "id": "mYqySJBmN4uW",
        "outputId": "8b7338bd-ae39-41f0-d0ef-a634406c18ca"
      },
      "execution_count": 9,
      "outputs": [
        {
          "output_type": "stream",
          "name": "stdout",
          "text": [
            "enter the numeber10\n",
            "the square of 10 is  100\n",
            "the square of 9 is  81\n",
            "the square of 8 is  64\n",
            "the square of 7 is  49\n",
            "the square of 6 is  36\n",
            "the square of 5 is  25\n",
            "the square of 4 is  16\n",
            "the square of 3 is  9\n",
            "the square of 2 is  4\n",
            "the square of 1 is  1\n",
            "the while loop ran successfully\n"
          ]
        }
      ]
    },
    {
      "cell_type": "code",
      "source": [
        "#for loop\n",
        "# we use the for loop to print the element of list\n",
        "list1=[\"mithlesh\",\"chauhan\",\"bhu\",\"pw skill\",\"data analysts\"]\n",
        "for element in list1:\n",
        "  print(element)\n",
        "else:\n",
        "  print(\"the code ran successfully\")"
      ],
      "metadata": {
        "colab": {
          "base_uri": "https://localhost:8080/"
        },
        "id": "IjioUSCUPR7d",
        "outputId": "5570bc61-d5b4-43e4-f281-f20c27dbbbad"
      },
      "execution_count": 11,
      "outputs": [
        {
          "output_type": "stream",
          "name": "stdout",
          "text": [
            "mithlesh\n",
            "chauhan\n",
            "bhu\n",
            "pw skill\n",
            "data analysts\n",
            "the code ran successfully\n"
          ]
        }
      ]
    }
  ]
}