{
  "nbformat": 4,
  "nbformat_minor": 0,
  "metadata": {
    "colab": {
      "provenance": []
    },
    "kernelspec": {
      "name": "python3",
      "display_name": "Python 3"
    },
    "language_info": {
      "name": "python"
    }
  },
  "cells": [
    {
      "cell_type": "code",
      "execution_count": null,
      "metadata": {
        "id": "5Vhe_xKhf0b1",
        "colab": {
          "base_uri": "https://localhost:8080/"
        },
        "outputId": "942b8f08-0fe0-4b90-8bc4-520e8cf4a637"
      },
      "outputs": [
        {
          "output_type": "stream",
          "name": "stdout",
          "text": [
            "[[67 26 83]\n",
            " [28  0 53]\n",
            " [65 25 47]]\n",
            "[[67 28 65]\n",
            " [26  0 25]\n",
            " [83 53 47]]\n"
          ]
        }
      ],
      "source": [
        "#Question1: Create a 3x3 NumPy array with random integers between 1 and 100. Then, interchange its rows and columns\n",
        "import numpy as np\n",
        "p=np.random.randint(0,100,size=(3,3))\n",
        "print(p)\n",
        "q=p.T\n",
        "print(q)\n"
      ]
    },
    {
      "cell_type": "code",
      "source": [
        "#question2. Generate a 1D NumPy array with 10 elements. Reshape it into a 2x5 array, then into a 5x2 array.\n",
        "import numpy as np\n",
        "arr=np.arange(10)\n",
        "print(\"the original array is \\n \",arr)\n",
        "arr1=arr.reshape(2,5)\n",
        "print(arr1)\n",
        "arr2=arr.reshape(5,2)\n",
        "print(arr2)\n",
        "\n",
        "\n",
        "\n"
      ],
      "metadata": {
        "colab": {
          "base_uri": "https://localhost:8080/"
        },
        "id": "zg7cjFs7sFBW",
        "outputId": "722b8fcf-acd8-4156-9174-7f25be305a57"
      },
      "execution_count": null,
      "outputs": [
        {
          "output_type": "stream",
          "name": "stdout",
          "text": [
            "the original array is \n",
            "  [0 1 2 3 4 5 6 7 8 9]\n",
            "[[0 1 2 3 4]\n",
            " [5 6 7 8 9]]\n",
            "[[0 1]\n",
            " [2 3]\n",
            " [4 5]\n",
            " [6 7]\n",
            " [8 9]]\n"
          ]
        }
      ]
    },
    {
      "cell_type": "code",
      "source": [
        "# Question 3:Create a 4x4 NumPy array with random float values. Add a border of zeros around it, resulting in a 6x6 array.\n",
        "import numpy as np\n",
        "import random\n",
        "arr=np.random.rand(4,4)\n",
        "print(\"the original array is \",arr)\n",
        "arr1=np.pad(arr, pad_width=1, mode='constant', constant_values=0)\n",
        "print(arr1)\n",
        "\n",
        "\n",
        "\n",
        "\n",
        "\n"
      ],
      "metadata": {
        "colab": {
          "base_uri": "https://localhost:8080/"
        },
        "id": "Ax0W2rKXUt4I",
        "outputId": "4f4afcf8-94e3-4cd9-8826-cccf229220f7"
      },
      "execution_count": null,
      "outputs": [
        {
          "output_type": "stream",
          "name": "stdout",
          "text": [
            "the original array is  [[0.95908749 0.15540538 0.48334088 0.32946365]\n",
            " [0.65260307 0.04257556 0.15221501 0.78381545]\n",
            " [0.0107155  0.9014601  0.32082532 0.18077588]\n",
            " [0.4389895  0.84666354 0.62158    0.49694972]]\n",
            "[[0.         0.         0.         0.         0.         0.        ]\n",
            " [0.         0.95908749 0.15540538 0.48334088 0.32946365 0.        ]\n",
            " [0.         0.65260307 0.04257556 0.15221501 0.78381545 0.        ]\n",
            " [0.         0.0107155  0.9014601  0.32082532 0.18077588 0.        ]\n",
            " [0.         0.4389895  0.84666354 0.62158    0.49694972 0.        ]\n",
            " [0.         0.         0.         0.         0.         0.        ]]\n"
          ]
        }
      ]
    },
    {
      "cell_type": "code",
      "source": [
        "# question 4:Using NumPy, create an array of integers from 10 to 60 with a step of 5.\n",
        "import numpy as np\n",
        "arr=np.arange(10,61,5)\n",
        "print(arr)\n",
        "\n",
        "\n"
      ],
      "metadata": {
        "colab": {
          "base_uri": "https://localhost:8080/"
        },
        "id": "t7kEgkTUYRZx",
        "outputId": "40c553e3-db57-4c39-ca12-ab628b29381e"
      },
      "execution_count": null,
      "outputs": [
        {
          "output_type": "stream",
          "name": "stdout",
          "text": [
            "[10 15 20 25 30 35 40 45 50 55 60]\n"
          ]
        }
      ]
    },
    {
      "cell_type": "code",
      "source": [
        "#Question 5. Create a NumPy array of strings ['python', 'numpy', 'pandas']. Apply different case transformations\n",
        "#(uppercase, lowercase, title case, etc.) to each element.\n",
        "import numpy as np\n",
        "arr=np.array([\"python\",\"numpy\",\"pandas\"])\n",
        "arr_upper=np.char.upper(arr)\n",
        "arr_lower=np.char.lower(arr)\n",
        "arr_title=np.char.title(arr)\n",
        "print(arr_upper,arr_lower,arr_title)\n"
      ],
      "metadata": {
        "colab": {
          "base_uri": "https://localhost:8080/"
        },
        "id": "N4XZwD2HY4at",
        "outputId": "c10619ec-91a4-4ab8-9680-aa515f010ffb"
      },
      "execution_count": null,
      "outputs": [
        {
          "output_type": "stream",
          "name": "stdout",
          "text": [
            "['PYTHON' 'NUMPY' 'PANDAS'] ['python' 'numpy' 'pandas'] ['Python' 'Numpy' 'Pandas']\n"
          ]
        }
      ]
    },
    {
      "cell_type": "code",
      "source": [
        "#6. Generate a NumPy array of words. Insert a space between each character of every word in the array\n",
        "import numpy as np\n",
        "arr=np.array([\"mitlesh\",\"chauhan\",\"data\",\"science\"])\n",
        "arr1=np.char.join('  ',arr)\n",
        "print(arr1)\n"
      ],
      "metadata": {
        "colab": {
          "base_uri": "https://localhost:8080/"
        },
        "id": "7DlvPI0DZ9-F",
        "outputId": "3367f3cf-f5d2-40ca-d283-cf8192b37be8"
      },
      "execution_count": null,
      "outputs": [
        {
          "output_type": "stream",
          "name": "stdout",
          "text": [
            "['m  i  t  l  e  s  h' 'c  h  a  u  h  a  n' 'd  a  t  a'\n",
            " 's  c  i  e  n  c  e']\n"
          ]
        }
      ]
    },
    {
      "cell_type": "code",
      "source": [
        "#Question 7. Create two 2D NumPy arrays and\n",
        "# perform element-wise addition, subtraction, multiplication, and division.\n",
        "arr1=np.array([[1,2,3],[21,22,23]])\n",
        "arr2=np.array([[13,14,15],[10,11,12]])\n",
        "print(\"the addition of the two array element wise\\n\",arr1+arr2)\n",
        "print(\"the subtraction of the given array are\\n \",arr2-arr1)\n",
        "print(\"the multiplication of two array element wise \\n\",arr1*arr2)\n"
      ],
      "metadata": {
        "colab": {
          "base_uri": "https://localhost:8080/"
        },
        "id": "QekCayfnaymk",
        "outputId": "6040555d-fcab-4d2b-b644-4b42bf1a31f0"
      },
      "execution_count": null,
      "outputs": [
        {
          "output_type": "stream",
          "name": "stdout",
          "text": [
            "the addition of the two array element wise\n",
            " [[14 16 18]\n",
            " [31 33 35]]\n",
            "the subtraction of the given array are\n",
            "  [[ 12  12  12]\n",
            " [-11 -11 -11]]\n",
            "the multiplication of two array element wise \n",
            " [[ 13  28  45]\n",
            " [210 242 276]]\n"
          ]
        }
      ]
    },
    {
      "cell_type": "code",
      "source": [
        "#Question 8. Use NumPy to create a 5x5 identity matrix, then extract its diagonal elements.\n",
        "import numpy as np\n",
        "id_mat=np.eye(5)\n",
        "print(\"the identity matrix is \\n\",id_mat)\n",
        "dig=np.diag(id_mat)\n",
        "print(\"The diagonal is \\n\",dig)\n"
      ],
      "metadata": {
        "colab": {
          "base_uri": "https://localhost:8080/"
        },
        "id": "R7SKqcpYbaHI",
        "outputId": "8ec24152-995e-416f-e245-acc81e103e03"
      },
      "execution_count": null,
      "outputs": [
        {
          "output_type": "stream",
          "name": "stdout",
          "text": [
            "the identity matrix is \n",
            " [[1. 0. 0. 0. 0.]\n",
            " [0. 1. 0. 0. 0.]\n",
            " [0. 0. 1. 0. 0.]\n",
            " [0. 0. 0. 1. 0.]\n",
            " [0. 0. 0. 0. 1.]]\n",
            "The diagonal is \n",
            " [1. 1. 1. 1. 1.]\n"
          ]
        }
      ]
    },
    {
      "cell_type": "code",
      "source": [
        "#question 9: Generate a NumPy array of 100 random integers between 0 and 1000.\n",
        " #Find and display all prime numbers in this array.\n",
        "\n",
        "def prime(num):\n",
        "    if num <= 1:\n",
        "        return False\n",
        "    for i in range(2, num):\n",
        "        if num % i == 0:\n",
        "            return False\n",
        "    return True\n",
        "import numpy as np\n",
        "import random\n",
        "arr=np.random.randint(1,1000,size=100)\n",
        "print(arr)\n",
        "prime_numbers=[num for num in arr if prime(num)]\n",
        "print(\" the prime numbers are\\n\",prime_numbers)\n",
        "\n",
        "\n",
        "\n",
        "\n",
        "\n"
      ],
      "metadata": {
        "colab": {
          "base_uri": "https://localhost:8080/"
        },
        "id": "vc8fo2pSd4Xn",
        "outputId": "24d22314-45c4-439e-8389-1954c1d144e6"
      },
      "execution_count": null,
      "outputs": [
        {
          "output_type": "stream",
          "name": "stdout",
          "text": [
            "[900 165 875 980 110 899 910 260 187 452 489 586 786 346 579 748  37  66\n",
            " 115 604 493 627   2 887 331 226 772 300 972 982 162 436 879 189 888 479\n",
            " 808 380  94 709 641   5 846 873 943 574 603 470  54 803 261 294 350 250\n",
            " 542 616 146 342 521 290 405 298 686 217 950 592 358 876 945 375 687 620\n",
            " 671 845  60 202 850  28 368 740  87 783 212 419 563 623 963 193 772 698\n",
            " 417 264 564  89 746 353 504 515  92 585]\n",
            " the prime numbers are\n",
            " [37, 2, 887, 331, 479, 709, 641, 5, 521, 419, 563, 193, 89, 353]\n"
          ]
        }
      ]
    },
    {
      "cell_type": "code",
      "source": [],
      "metadata": {
        "id": "lwq4n9H1ckdg"
      },
      "execution_count": null,
      "outputs": []
    },
    {
      "cell_type": "code",
      "source": [
        "# Create a NumPy array representing daily temperatures for a month.\n",
        "# Calculate and display the weekly averages.\n",
        "import numpy as np\n",
        "#here I assumed the temparature will be in range of 20 to 35 degree celcius\n",
        "arr=np.random.uniform(20,35,30)\n",
        "print(\"the array of temparatures is \\n\",arr)\n",
        "arr1=arr[:28].reshape(4,7)\n",
        "arr2=arr[28:]\n",
        "weekly_avg=arr1.mean(axis=1)\n",
        "\n",
        "print(\"the weekly average temparature is in the below arry\",weekly_avg)\n",
        "if arr2.size >0:\n",
        "  rem_avg=arr2.mean()\n",
        "  print(f\"the avrage of the {arr2.size} days is \\n\",rem_avg)\n",
        "\n",
        "\n",
        "\n"
      ],
      "metadata": {
        "colab": {
          "base_uri": "https://localhost:8080/"
        },
        "id": "W1rirfGnjYc_",
        "outputId": "66047a38-86a3-4d5f-f8ed-764ced26f591"
      },
      "execution_count": null,
      "outputs": [
        {
          "output_type": "stream",
          "name": "stdout",
          "text": [
            "the array of temparatures is \n",
            " [28.80815472 32.39566453 29.91815095 32.21163496 24.87848685 22.76769489\n",
            " 20.9145875  28.22528135 24.42713376 32.79648712 34.12935939 24.19004113\n",
            " 28.70604021 26.49539281 21.73741589 33.94355425 30.44873431 29.91834327\n",
            " 31.31830286 26.18470686 25.70130506 21.72332917 28.04997411 22.00713978\n",
            " 29.18882195 22.49727193 20.08072572 25.8672998  31.38733591 34.89395294]\n",
            "the weekly average temparature is in the below arry [27.41348206 28.42424797 28.46462322 24.20208035]\n",
            "the avrage of the 2 days is \n",
            " 33.14064442436357\n"
          ]
        }
      ]
    }
  ]
}