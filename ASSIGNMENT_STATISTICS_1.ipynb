{
  "nbformat": 4,
  "nbformat_minor": 0,
  "metadata": {
    "colab": {
      "provenance": []
    },
    "kernelspec": {
      "name": "python3",
      "display_name": "Python 3"
    },
    "language_info": {
      "name": "python"
    }
  },
  "cells": [
    {
      "cell_type": "markdown",
      "source": [
        " **Question 1**Explain the different types of data (qualitative and quantitative) and provide examples of each. Discuss\n",
        "nominal, ordinal, interval, and ratio scales.\n",
        "**Answer**:the data can be divided into two parts one is qualitative another is quantitative .\n",
        "The qualitative data is the data which is not measurable or can say that we cannot do mathematical treatment with the qualitative data in its original form.example gender ,ehinicity,race colour etc.\n",
        "Quantitative data is the data where we can have mathematical treatment. like height weight marks etc.\n",
        "Qualitative data can further diveded in two parts as\n",
        "Nominal and ordinal where the nominal data have no order and ordinal are the categorical data which have order.\n",
        "whereas the Qualitative data are diveded into two cataegories also\n",
        "one is interval scale and other is ratio scale data basic differnce between two is ratio scale data complosorily start from zero but inertval can or cannot start from zero.\n"
      ],
      "metadata": {
        "id": "DIkpkipgy47C"
      }
    },
    {
      "cell_type": "markdown",
      "source": [
        "**Question 2**:What are the measures of central tendency, and when should you use each? Discuss the mean, median,\n",
        "and mode with examples and situations where each is appropriate.\n",
        "\n",
        "\n",
        "**Answer**:The major of central tendency are the technique which is used to find a central value which can represent the whole data\n",
        "we use them to find a mid value or to take an insight from the data for example mean of the  can better explain how good the students are in particular subject .Similerly the median and mode have also there use cases .Secondal while analysing the data or during the data cleansing we use them to fill the null values for futher interpretation.let us discuss them one by one\n",
        "**Mean**: Mean is a kind of average which is based on the complete sample size and it is calculated as the mathematical average.i.e\n",
        "mean=(sum of all the obeservation / total number of the observation)\n",
        "it is used in analysis of of many things such as the average marks of a sudent ,average income and expenditure, etc\n",
        "**Median**: Median isalso known as the physical mid point of data or sample data .the major use case is that is used where there is an outlier median is unaffected by the outliers.\n",
        "**Mode**: Mode is the data or the data point which ocuured most of the time in the sample or the population data."
      ],
      "metadata": {
        "id": "21TWRvu02Kri"
      }
    },
    {
      "cell_type": "markdown",
      "source": [
        "**Question 3**: Explain the concept of dispersion. How do variance and standard deviation measure the spread of data?  \n",
        "\n",
        "**Answer**: Dispersion measurs the spread of the data i.e it explains how much a data is scattred from its central point.\n",
        "Variance is the average of the squared diffrence of the obeservations and the means\n",
        "i.e variance=$$ \\sigma^2 = \\frac{1}{N} \\sum_{i=1}^{N} (x_i - \\mu)^2 $$\n",
        "while the standard deviation is $$ \\sigma = \\sqrt{\\frac{1}{N} \\sum_{i=1}^{N} (x_i - \\mu)^2} $$\n",
        "both the technique are used to measure the spread of the data from center or mean or average.\n",
        "standard deviation is somehow more useful because it measur the difference in the orignal unit where the variance squared the the unit.\n"
      ],
      "metadata": {
        "id": "h9pY6V4Lec7Q"
      }
    },
    {
      "cell_type": "markdown",
      "source": [
        "**Question 4**. What is a box plot, and what can it tell you about the distribution of data?  \n",
        "**Answer**:Box plot is a graphical representaion of the data which uses quartile and inter qaurtile for prediction of the outliers skewness and the center of the data.\n",
        "\n"
      ],
      "metadata": {
        "id": "E4XarJOnkRcG"
      }
    },
    {
      "cell_type": "markdown",
      "source": [
        "**Question 5**: Discuss the role of random sampling in making inferences about populations.  \n",
        "\n",
        "**Answer**:Ramdom sampling is very usful while making the inferences because in case of the very large data set it very much tedius and resourse draining process here we take the sample of the data using the diffrent sampling tachniques and  use tha statestical method to find the inference for the whole population\n"
      ],
      "metadata": {
        "id": "0ixesAm9le2C"
      }
    },
    {
      "cell_type": "markdown",
      "source": [
        "**Question 6**:6. Explain the concept of skewness and its types. How does skewness affect the interpretation of data?  \n",
        "**Answer**: Skewness is the mesure of the symmetry it tell where is the data is consentrated and where is the data is sparse  \n",
        "Skewness is of three types\n",
        "\n",
        "\n",
        "*   Symmetric distribution\n",
        "*   positively skewed distribution\n",
        "*   Negetively skewed distribution\n",
        "Measures of Central Tendency:\n",
        "\n",
        "In a positively skewed distribution, the mean is greater than the median, which is greater than the mode.\n",
        "\n",
        "In a negatively skewed distribution, the mean is less than the median, which is less than the mode.\n",
        "Understanding skewness helps in making better decisions based on data. For example, in finance, positive skewness can indicate higher potential for extreme positive returns but also a higher risk."
      ],
      "metadata": {
        "id": "cLLHIhsyzsp8"
      }
    },
    {
      "cell_type": "markdown",
      "source": [
        "**Question7**: 7. What is the interquartile range (IQR), and how is it used to detect outliers?  \n",
        "**Answer**: interqurtile range is the diffrence of quartile 3 and quartile 1.\n",
        "it is very usful while deciding the upper and lower fence for the outliers formula is given bellow\n",
        "lower fence =Q1-1.5*IQR  \n",
        "\n",
        "upper fence =Q3+1.5*IQR\n",
        "Those data which fall beyond that fence are considerd as the outliers.\n"
      ],
      "metadata": {
        "id": "HM8xhlEc1OZW"
      }
    },
    {
      "cell_type": "markdown",
      "source": [
        "**Question8**:Discuss the conditions under which the binomial distribution is used.\n",
        "**Answer**:Conditions for Using the Binomial Distribution:\n",
        "Fixed Number of Trials (n):\n",
        "\n",
        "The experiment consists of a fixed number of trials, denoted by **n**.  \n",
        "The outcome of the trials should be binary ie True or False or 0 and 1.   \n",
        "\n",
        "The outcome of each trial is independent of the others. This means that the result of one trial does not affect the outcome of any other trial.\n",
        "\n",
        "\n"
      ],
      "metadata": {
        "id": "S6VUZ40K2HMx"
      }
    },
    {
      "cell_type": "markdown",
      "source": [
        "**Question 9** Explain the properties of the normal distribution and the empirical rule (68-95-99.7 rule)\n",
        "**Answer**:  \n",
        "The normal distribution, often known as the Gaussian distribution, is a continuous probability distribution that is symmetrical around its mean, depicting that data near the mean are more frequent in occurrence than data far from the mean. Here are some key properties:\n",
        "\n",
        "Symmetry: The normal distribution is perfectly symmetrical around the mean. This implies that the left and right halves of the graph are mirror images of each other.\n",
        "\n",
        "Bell-Shaped Curve: The probability density function forms a bell-shaped curve, known as the bell curve.\n",
        "\n",
        "Mean, Median, and Mode: In a normal distribution, the mean, median, and mode are all equal and located at the center of the distribution.\n",
        "\n",
        "Asymptotic: The tails of the normal distribution approach the horizontal axis but never touch it, extending infinitely in both directions.\n",
        "\n",
        "Defined by Mean and Standard Deviation: The shape and location of the normal distribution are determined by its mean (µ) and standard deviation (σ).\n",
        "\n",
        "Mean (µ): The center of the distribution.\n",
        "\n",
        "Standard Deviation (σ): Measures the spread or dispersion of the distribution.  \n",
        "Empirical Rule (68-95-99.7 Rule)\n",
        "The empirical rule is a statistical rule stating that for a normal distribution, nearly all of the data will fall within three standard deviations of the mean. This rule is also known as the 68-95-99.7 rule because it provides a quick way to understand the spread of data in a normal distribution.\n",
        "68%: Approximately 68% of the data falls within one standard deviation (σ) of the mean (µ).95%: Approximately 95% of the data falls within two standard deviations (2σ) of the mean.99.7%: Approximately 99.7% of the data falls within three standard deviations (3σ) of the mean."
      ],
      "metadata": {
        "id": "zpA1P6wP3q9H"
      }
    },
    {
      "cell_type": "markdown",
      "source": [
        "**Question 10**10. Provide a real-life example of a Poisson process and calculate the probability for a specific event.\n",
        "**Answer**:Real-Life Example of a Poisson Process:\n",
        "Let's consider a real-life example of a Poisson process: customer arrivals at a bank's ATM. Suppose customers arrive at the ATM at an average rate of 4 customers per hour.\n",
        "\n",
        "Poisson Process Characteristics:\n",
        "The number of arrivals in a fixed interval of time or space follows a Poisson distribution.\n",
        "\n",
        "Arrivals are independent of each other.\n",
        "\n",
        "The average rate (λ) of arrivals is constant over time.\n",
        "\n",
        "Calculation of the Probability:\n",
        "Let's calculate the probability of exactly 6 customers arriving at the ATM in a given hour.\n",
        "\n",
        "Poisson Probability Formula:\n",
        "The probability of observing\n",
        "𝑘\n",
        " events in a fixed interval is given by the Poisson formula:\n",
        "\n",
        "𝑃\n",
        "(\n",
        "𝑋\n",
        "=\n",
        "𝑘\n",
        ")\n",
        "=\n",
        "𝑒\n",
        "−\n",
        "𝜆\n",
        "𝜆\n",
        "𝑘\n",
        "𝑘\n",
        "!\n",
        "Where:\n",
        "\n",
        "𝜆\n",
        " is the average rate of occurrences (4 customers per hour).\n",
        "\n",
        "𝑘\n",
        " is the number of occurrences we want to find the probability for (6 customers).\n",
        "\n",
        "𝑒\n",
        " is the base of the natural logarithm (approximately equal to 2.71828).\n",
        "\n",
        "Substitute Values:\n",
        "𝜆\n",
        "=\n",
        "4\n",
        "\n",
        "𝑘\n",
        "=\n",
        "6\n",
        "\n",
        "𝑃\n",
        "(\n",
        "𝑋\n",
        "=\n",
        "6\n",
        ")\n",
        "=\n",
        "𝑒\n",
        "−\n",
        "4\n",
        "⋅\n",
        "4\n",
        "6\n",
        "6\n",
        "!\n",
        "Calculate:\n",
        "Compute\n",
        "4\n",
        "6\n",
        ": $$ 4^6 = 4096 $$\n",
        "\n",
        "Compute\n",
        "6\n",
        "!\n",
        " (factorial of 6): $$ 6! = 6 \\times 5 \\times 4 \\times 3 \\times 2 \\times 1 = 720 $$\n",
        "\n",
        "Compute\n",
        "𝑒\n",
        "−\n",
        "4\n",
        ": $$ e^{-4} \\approx 0.0183 $$\n",
        "\n",
        "Combine the values: $$ P(X = 6) = \\frac{0.0183 \\cdot 4096}{720} \\approx \\frac{74.9568}{720} \\approx 0.104 $$\n",
        "\n",
        "Result:\n",
        "The probability of exactly 6 customers arriving at the ATM in a given hour is approximately 0.104, or 10.4%.\n",
        "\n",
        "Explanation:\n",
        "The calculation used the average arrival rate (\n",
        "𝜆\n",
        ") and the desired number of arrivals (\n",
        "𝑘\n",
        ") to find the probability using the Poisson distribution formula.\n",
        "\n",
        "This process is common in scenarios where events occur independently over a constant average rate, such as customer arrivals, phone calls at a call center, or the number of emails received per hour."
      ],
      "metadata": {
        "id": "pNIiVJHW4pXY"
      }
    },
    {
      "cell_type": "markdown",
      "source": [
        "**Question 11**:Explain what a random variable is and differentiate between discrete and continuous random variables\n",
        "**Answer**Discrete Random Variables\n",
        "A discrete random variable is one that can take on a countable number of distinct values. These values are typically integers, and there are usually gaps between the possible values. Discrete random variables are often used to model scenarios where outcomes are finite or countable.\n",
        "\n",
        "Examples:\n",
        "\n",
        "Number of heads in 10 coin tosses.\n",
        "\n",
        "Number of students in a class.\n",
        "\n",
        "Number of defective items in a batch.\n",
        "\n",
        "Properties:\n",
        "\n",
        "The probability distribution for a discrete random variable is often represented using a probability mass function (PMF).\n",
        "\n",
        "Each possible value has a corresponding probability.\n",
        "\n",
        "Continuous Random Variables\n",
        "A continuous random variable is one that can take on any value within a given range. The possible values are not countable, and there are no gaps between the values. Continuous random variables are used to model measurements that can take any value within a specified interval.\n",
        "\n",
        "Examples:\n",
        "\n",
        "Height of students in a class.\n",
        "\n",
        "Time taken to complete a task.\n",
        "\n",
        "Temperature on a given day.\n",
        "\n",
        "Properties:\n",
        "\n",
        "The probability distribution for a continuous random variable is represented using a probability density function (PDF).\n",
        "\n",
        "Probabilities for continuous variables are found by integrating the PDF over an interval."
      ],
      "metadata": {
        "id": "VJCZw-o75azW"
      }
    },
    {
      "cell_type": "markdown",
      "source": [
        "12. Provide an example dataset, calculate both covariance and correlation, and interpret the results.\n",
        "**answer**:X: [2, 4, 6, 8, 10]\n",
        "Y: [1, 3, 2, 5, 4]\n",
        "\n",
        "\n",
        "### Step 1: Calculate Covariance\n",
        "Covariance measures the direction of the linear relationship between two variables.\n",
        "\n",
        "#### **Formula:**\n",
        "$$\n",
        "\\text{Cov}(X, Y) = \\frac{\\sum_{i=1}^{n} (X_i - \\bar{X})(Y_i - \\bar{Y})}{n-1}\n",
        "$$\n",
        "\n",
        "Where:\n",
        "- \\( n \\) is the number of data points.\n",
        "- \\( \\bar{X} \\) is the mean of \\( X \\).\n",
        "- \\( \\bar{Y} \\) is the mean of \\( Y \\).\n",
        "\n",
        "#### **Calculation:**\n",
        "1. **Calculate the means of \\( X \\) and \\( Y \\)**:\n",
        "   - \\( \\bar{X} = \\frac{2 + 4 + 6 + 8 + 10}{5} = 6 \\)\n",
        "   - \\( \\bar{Y} = \\frac{1 + 3 + 2 + 5 + 4}{5} = 3 \\)\n",
        "\n",
        "2. **Calculate the deviations from the mean**:\n",
        "   - \\( (X - \\bar{X}): [-4, -2, 0, 2, 4] \\)\n",
        "   - \\( (Y - \\bar{Y}): [-2, 0, -1, 2, 1] \\)\n",
        "\n",
        "3. **Calculate the product of deviations for each pair**:\n",
        "   - \\( (-4) \\cdot (-2) = 8 \\)\n",
        "   - \\( (-2) \\cdot 0 = 0 \\)\n",
        "   - \\( 0 \\cdot (-1) = 0 \\)\n",
        "   - \\( 2 \\cdot 2 = 4 \\)\n",
        "   - \\( 4 \\cdot 1 = 4 \\)\n",
        "\n",
        "4. **Sum the products of deviations**:\n",
        "   - Sum = \\( 8 + 0 + 0 + 4 + 4 = 16 \\)\n",
        "\n",
        "5. **Divide by \\( n-1 \\)**:\n",
        "   - \\( \\text{Cov}(X, Y) = \\frac{16}{5-1} = \\frac{16}{4} = 4 \\)\n",
        "\n",
        "### Step 2: Calculate Correlation\n",
        "Correlation measures the strength and direction of the linear relationship between two variables.\n",
        "\n",
        "#### **Formula:**\n",
        "$$\n",
        "\\rho_{X,Y} = \\frac{\\text{Cov}(X, Y)}{\\sigma_X \\sigma_Y}\n",
        "$$\n",
        "\n",
        "Where:\n",
        "- \\( \\rho_{X,Y} \\) is the correlation coefficient.\n",
        "- \\( \\sigma_X \\) and \\( \\sigma_Y \\) are the standard deviations of \\( X \\) and \\( Y \\), respectively.\n",
        "\n",
        "#### **Calculation:**\n",
        "1. **Calculate the standard deviations of \\( X \\) and \\( Y \\)**:\n",
        "   - Variance of \\( X \\):\n",
        "   $$\n",
        "   \\text{Var}(X) = \\frac{\\sum (X_i - \\bar{X})^2}{n-1} = \\frac{40}{4} = 10\n",
        "   $$\n",
        "   - \\( \\sigma_X = \\sqrt{10} = 3.16 \\)\n",
        "\n",
        "   - Variance of \\( Y \\):\n",
        "   $$\n",
        "   \\text{Var}(Y) = \\frac{\\sum (Y_i - \\bar{Y})^2}{n-1} = \\frac{10}{4} = 2.5\n",
        "   $$\n",
        "   - \\( \\sigma_Y = \\sqrt{2.5} = 1.58 \\)\n",
        "\n",
        "2. **Calculate the correlation coefficient**:\n",
        "   -\n",
        "   $$\n",
        "   \\rho_{X,Y} = \\frac{4}{3.16 \\cdot 1.58} \\approx \\frac{4}{4.9968} \\approx 0.80\n",
        "   $$\n",
        "\n",
        "### Interpretation\n",
        "\n",
        "- **Covariance**: The positive covariance of 4 indicates that as \\( X \\) increases, \\( Y \\) tends to increase as well. However, it does not standardize the measure, making it hard to interpret the strength of this relationship directly.\n",
        "\n",
        "- **Correlation**: The correlation coefficient of 0.80 is positive and close to 1, indicating a strong positive linear relationship between \\( X \\) and \\( Y \\). This means that as values of \\( X \\) increase, values of \\( Y \\) also tend to increase, and the relationship is fairly strong.\n",
        "NOte: ** some of the point are written using copilot**\n"
      ],
      "metadata": {
        "id": "UIqg5ZqBBWqW"
      }
    }
  ]
}